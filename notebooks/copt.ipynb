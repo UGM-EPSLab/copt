{
 "cells": [
  {
   "cell_type": "markdown",
   "id": "92f99698-91e7-41eb-83b3-d778c4c9d357",
   "metadata": {},
   "source": [
    "# COPT and LOLP Calculator"
   ]
  },
  {
   "cell_type": "markdown",
   "id": "fe4b81fa",
   "metadata": {},
   "source": [
    "## Input Format\n",
    "\n",
    "### Forced outage rate input format\n",
    "\n",
    "|No |Unit Name  |Capacity (MW)  |FOR (Outage)   |Status |\n",
    "|---|-----------|---------------|---------------|-------|\n",
    "|1  |COAL-1     |50             |0.1            |1      |\n",
    "|2  |COAL-2     |20             |0.1            |0      |\n",
    "|3  |COAL-3     |50             |0.2            |1      |\n",
    "|4  |COAL-4     |30             |0.1            |1      |\n",
    "\n",
    "Note:\n",
    "\n",
    "1. status denotes that the generating unit is considered (1) or not (0) in making COPT table.\n",
    "\n",
    "### Profile input format\n",
    "\n",
    "|No     |Demand (MW)    |\n",
    "|-------|---------------|\n",
    "|1      |150            |\n",
    "|...    |...            |\n",
    "|...    |...            |\n",
    "|8760   |125            |\n",
    "\n",
    "### VOLL input format\n",
    "\n",
    "VOLL can use `_` and `,` separator for thousands and `.` for cents, eg: `15_000_000.00`\n"
   ]
  },
  {
   "cell_type": "markdown",
   "id": "d6a2d00b",
   "metadata": {},
   "source": [
    "## Initiate"
   ]
  },
  {
   "cell_type": "code",
   "execution_count": null,
   "id": "2da5fd93-5c2d-4630-b33d-5092fe128017",
   "metadata": {},
   "outputs": [],
   "source": [
    "import itertools\n",
    "\n",
    "from IPython.display import display\n",
    "from IPython.core.debugger import Pdb\n",
    "from ipywidgets import widgets\n",
    "\n",
    "import numpy as np\n",
    "import pandas as pd\n",
    "\n",
    "\n",
    "# setting numpy print option decimal places\n",
    "decimal_places = 3\n",
    "np.set_printoptions(precision=decimal_places, suppress=True)\n",
    "pd.set_option('display.float_format', '{:.3f}'.format)\n",
    "\n",
    "# lolp\n",
    "def get_lolp(capacity, cumulative_probability, demand):\n",
    "    \"\"\"\n",
    "    format:\n",
    "        capacity (descend)\n",
    "        cumulative_probability(descend)\n",
    "    \"\"\"\n",
    "    try:\n",
    "        idx = np.where(capacity < demand)[0][0]\n",
    "    except IndexError:\n",
    "        idx = -1\n",
    "    return cumulative_probability[idx]\n",
    "\n",
    "# eens\n",
    "def get_eens(capacity, individual_probability, demand):\n",
    "    # TODO: standardize input in teh form of one year data (8760 data) by default\n",
    "    \"\"\"\n",
    "    format:\n",
    "        capacity\n",
    "        individual_probability\n",
    "    \"\"\"\n",
    "    return sum(individual_probability\n",
    "               * (capacity < demand)\n",
    "               * (demand - capacity))\n",
    "\n",
    "# Uploader class for input\n",
    "class Uploader:\n",
    "    def __init__(self, name=None):\n",
    "        if name is None:\n",
    "            self._name = ' '\n",
    "        else:\n",
    "            self._name = f' {name} '\n",
    "\n",
    "        # uploader\n",
    "        self._file_upload = widgets.FileUpload(\n",
    "            accept='.csv*',  # Accepted file extension e.g. '.txt', '.pdf', 'image/*', 'image/*,.pdf'\n",
    "            multiple=False  # True to accept multiple files upload else False\n",
    "            )\n",
    "\n",
    "        self.box = widgets.VBox(children=(self._file_upload,\n",
    "                                           widgets.Label(value = f'Upload{self._name}in .csv Format')))\n",
    "\n",
    "    def get_dataframe(self):\n",
    "        return get_dataframe_from_widget(self._file_upload)\n",
    "\n",
    "# widgets\n",
    "output = widgets.Output()\n",
    "\n",
    "def get_content_and_name(file_upload):\n",
    "    return (\n",
    "        file_upload.value[0]['content'],\n",
    "        file_upload.value[0]['name'],\n",
    "    )\n",
    "\n",
    "def write_file_from_bytes_data(bytes_data, file_name='NAME.csv'):\n",
    "    with open(file_name, 'wb') as f:\n",
    "        f.write(bytes_data)\n",
    "\n",
    "def get_dataframe_from_widget(file_upload):\n",
    "    # get content and file name\n",
    "    content, name = get_content_and_name(file_upload)\n",
    "\n",
    "    # from bytes data to csv file\n",
    "    write_file_from_bytes_data(content, file_name=name)\n",
    "\n",
    "    # pandas read csv\n",
    "    return pd.read_csv(name)\n",
    "\n",
    "for_data_uploader = Uploader(name='FOR Data')\n",
    "demand_profile_data_uploader = Uploader(name='Demand Profile Data')\n",
    "voll_widget = widgets.Text(\n",
    "    value='15_000_000.00',\n",
    "    description='VOLL: ',\n",
    "    disabled=False\n",
    ")\n",
    "button = widgets.Button(description=\"Compute!\")\n",
    "\n",
    "# button action\n",
    "def on_button_clicked(b):\n",
    "    with output:\n",
    "        # COPT\n",
    "        df = for_data_uploader.get_dataframe()\n",
    "        capacities = df['Capacity (MW)'].tolist()\n",
    "        outage_rates = df['FOR (Outage)'].tolist()\n",
    "        status = df['Status'].tolist()\n",
    "\n",
    "        # used only for print input table\n",
    "        # pd.DataFrame(data={'capacities': capacities,\n",
    "        #                    'outage_rates': outage_rates,\n",
    "        #                    'status': status},\n",
    "        #              index=pd.RangeIndex(1, len(capacities) + 1, 1)).head(10)\n",
    "\n",
    "        # filter only available generator\n",
    "        generator_list = [[cap, 1-out]\n",
    "                          for cap, out, stat\n",
    "                          in sorted(zip(capacities, outage_rates, status), reverse=True)\n",
    "                          if stat]\n",
    "\n",
    "        # make tables for each generator\n",
    "        # TODO: Tables already support derating, input data should also support it from excel\n",
    "        tables = [np.array([generator, [0, 1 - generator[1]]]) for generator in generator_list]\n",
    "\n",
    "        table = tables[0].copy()  # copy to avoid modifying data\n",
    "        for table_ in tables[1:]:\n",
    "            # faster than flatten + transpose\n",
    "            table = np.hstack(((table[:, 0, None] + table_[:, 0]).reshape(-1,1),\n",
    "                               (table[:, 1, None] * table_[:, 1]).reshape(-1,1)))\n",
    "\n",
    "            # sort table\n",
    "            table = table[(-table[:, 0]).argsort(),:]\n",
    "\n",
    "            # combine duplicate\n",
    "            table = np.array([[k,sum([x[1] for x in list(g)])] \n",
    "                              for k,g in itertools.groupby(table, lambda x:x[0])])\n",
    "\n",
    "            # TODO: Implement resample, useful for big COPT table, triggered only if max table length achieve\n",
    "\n",
    "        table = np.hstack((table,\n",
    "                           np.atleast_2d(np.cumsum(table[::-1,1])[::-1]).T,  # Cumulative Probability\n",
    "                           np.atleast_2d(np.cumsum(table[:,1])).T))  # Reversed Cumulative Probability\n",
    "\n",
    "        columns_name = ['Combined Capacity',\n",
    "                        'Individual Probability',\n",
    "                        'Cumulative Probability',\n",
    "                        'Reversed Cumulative Probability']\n",
    "\n",
    "        df = pd.DataFrame(data=table,\n",
    "                          columns=columns_name,\n",
    "                          index=pd.RangeIndex(1, len(table) + 1, 1, name='No'),\n",
    "                          )\n",
    "\n",
    "        # to save COPT in csv\n",
    "        # CASE_NAME = 'COPT Case.csv'\n",
    "        # df.to_csv(f'../results/COPT_{CASE_NAME}')\n",
    "\n",
    "        df.head(10)  # to print copt table\n",
    "\n",
    "        # LOLP\n",
    "        demands = demand_profile_data_uploader.get_dataframe()['Demand (MW)'].values\n",
    "        max_demand = np.max(demands)\n",
    "        lolp = get_lolp(table[:,0], table[:,2], max_demand)\n",
    "\n",
    "        print(f'LOLP (using anual peak load): {lolp:.6f}')\n",
    "\n",
    "        # LOLE\n",
    "        print(f'LOLE (using anual peak load): {lolp * 365:.6f} day/year')\n",
    "\n",
    "        # EENS\n",
    "        eens = [get_eens(table[:,0], table[:,1], demand) for demand in demands]\n",
    "\n",
    "        print(f'Total EENS (using 8765 demand profile): {sum(eens):.4f}')\n",
    "\n",
    "        # Load Shedding Cost\n",
    "        VOLL = float(voll_widget.value.replace(',',''))\n",
    "        print(f'{VOLL * sum(eens):,.2f}')"
   ]
  },
  {
   "cell_type": "markdown",
   "id": "4269c2b3-e8a8-420c-958e-158269bcda16",
   "metadata": {},
   "source": [
    "## UI"
   ]
  },
  {
   "cell_type": "code",
   "execution_count": null,
   "id": "9efa1fa1",
   "metadata": {},
   "outputs": [
    {
     "data": {
      "application/vnd.jupyter.widget-view+json": {
       "model_id": "704daf1aba8f4602b623cacada68dc15",
       "version_major": 2,
       "version_minor": 0
      },
      "text/plain": [
       "VBox(children=(FileUpload(value=(), accept='.csv*', description='Upload'), Label(value='Upload FOR Data in .cs…"
      ]
     },
     "metadata": {},
     "output_type": "display_data"
    },
    {
     "data": {
      "application/vnd.jupyter.widget-view+json": {
       "model_id": "d1325715bd6d4b2bb882cc7d0d04cff3",
       "version_major": 2,
       "version_minor": 0
      },
      "text/plain": [
       "VBox(children=(FileUpload(value=(), accept='.csv*', description='Upload'), Label(value='Upload Demand Profile …"
      ]
     },
     "metadata": {},
     "output_type": "display_data"
    },
    {
     "data": {
      "application/vnd.jupyter.widget-view+json": {
       "model_id": "7dfc4f0d2dfe402699858523cc57528b",
       "version_major": 2,
       "version_minor": 0
      },
      "text/plain": [
       "Text(value='15_000_000.00', description='VOLL: ')"
      ]
     },
     "metadata": {},
     "output_type": "display_data"
    },
    {
     "data": {
      "application/vnd.jupyter.widget-view+json": {
       "model_id": "e391db998611475dbee7b843ec6044e1",
       "version_major": 2,
       "version_minor": 0
      },
      "text/plain": [
       "Button(description='Compute!', style=ButtonStyle())"
      ]
     },
     "metadata": {},
     "output_type": "display_data"
    },
    {
     "data": {
      "application/vnd.jupyter.widget-view+json": {
       "model_id": "9fbff7fdd5894475a853de361c1b2541",
       "version_major": 2,
       "version_minor": 0
      },
      "text/plain": [
       "Output()"
      ]
     },
     "metadata": {},
     "output_type": "display_data"
    }
   ],
   "source": [
    "display(for_data_uploader.box,\n",
    "        demand_profile_data_uploader.box,\n",
    "        voll_widget,\n",
    "        button,\n",
    "        output,\n",
    "       )\n",
    "button.on_click(on_button_clicked)"
   ]
  },
  {
   "cell_type": "code",
   "execution_count": null,
   "id": "dac594d2-3b8e-479f-8a63-9edc876d0813",
   "metadata": {},
   "outputs": [],
   "source": []
  }
 ],
 "metadata": {
  "kernelspec": {
   "display_name": "Python 3 (ipykernel)",
   "language": "python",
   "name": "python3"
  },
  "language_info": {
   "codemirror_mode": {
    "name": "ipython",
    "version": 3
   },
   "file_extension": ".py",
   "mimetype": "text/x-python",
   "name": "python",
   "nbconvert_exporter": "python",
   "pygments_lexer": "ipython3"
  },
  "vscode": {
   "interpreter": {
    "hash": "c539bf52739056728523ce4846b8571647250a403fa0a07ad5abaf30b2362796"
   }
  }
 },
 "nbformat": 4,
 "nbformat_minor": 5
}
