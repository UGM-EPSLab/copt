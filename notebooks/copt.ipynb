{
 "cells": [
  {
   "cell_type": "markdown",
   "id": "92f99698-91e7-41eb-83b3-d778c4c9d357",
   "metadata": {},
   "source": [
    "# COPT and LOLP Calculator"
   ]
  },
  {
   "cell_type": "markdown",
   "id": "d6a2d00b",
   "metadata": {},
   "source": [
    "## Initiate"
   ]
  },
  {
   "cell_type": "markdown",
   "id": "5c9f077b-b37e-4371-a253-6049e38b88d5",
   "metadata": {},
   "source": [
    "### import and settting printer"
   ]
  },
  {
   "cell_type": "code",
   "execution_count": null,
   "id": "2da5fd93-5c2d-4630-b33d-5092fe128017",
   "metadata": {},
   "outputs": [],
   "source": [
    "import itertools\n",
    "\n",
    "import numpy as np\n",
    "import pandas as pd"
   ]
  },
  {
   "cell_type": "code",
   "execution_count": null,
   "id": "2b8073e2-b533-408c-a567-7af97aa33eee",
   "metadata": {},
   "outputs": [],
   "source": [
    "# setting numpy print option decimal places\n",
    "decimal_places = 3\n",
    "np.set_printoptions(precision=decimal_places, suppress=True)\n",
    "pd.set_option('display.float_format', '{:.3f}'.format)"
   ]
  },
  {
   "cell_type": "markdown",
   "id": "4269c2b3-e8a8-420c-958e-158269bcda16",
   "metadata": {},
   "source": [
    "### inputs"
   ]
  },
  {
   "cell_type": "code",
   "execution_count": null,
   "id": "d7bc3c64",
   "metadata": {},
   "outputs": [],
   "source": [
    "# COPT input data path\n",
    "CASE_NAME = 'COPT Case.csv'"
   ]
  },
  {
   "cell_type": "code",
   "execution_count": null,
   "id": "a7c57edc",
   "metadata": {},
   "outputs": [],
   "source": [
    "# demands peak load used for LOLP and EENS\n",
    "DEMANDS = [590, 470, 585, 650, 660]"
   ]
  },
  {
   "cell_type": "code",
   "execution_count": null,
   "id": "5fa5bf35",
   "metadata": {},
   "outputs": [],
   "source": [
    "# value of lost load\n",
    "VOLL = 15_000_000"
   ]
  },
  {
   "cell_type": "markdown",
   "id": "1261dd89",
   "metadata": {},
   "source": [
    "### pre-processing"
   ]
  },
  {
   "cell_type": "code",
   "execution_count": null,
   "id": "f5e2e5b7-90f9-4be3-8ed3-786a2c606ce9",
   "metadata": {},
   "outputs": [
    {
     "data": {
      "text/html": [
       "<div>\n",
       "<style scoped>\n",
       "    .dataframe tbody tr th:only-of-type {\n",
       "        vertical-align: middle;\n",
       "    }\n",
       "\n",
       "    .dataframe tbody tr th {\n",
       "        vertical-align: top;\n",
       "    }\n",
       "\n",
       "    .dataframe thead th {\n",
       "        text-align: right;\n",
       "    }\n",
       "</style>\n",
       "<table border=\"1\" class=\"dataframe\">\n",
       "  <thead>\n",
       "    <tr style=\"text-align: right;\">\n",
       "      <th></th>\n",
       "      <th>capacities</th>\n",
       "      <th>outage_rates</th>\n",
       "      <th>status</th>\n",
       "    </tr>\n",
       "  </thead>\n",
       "  <tbody>\n",
       "    <tr>\n",
       "      <th>1</th>\n",
       "      <td>50</td>\n",
       "      <td>0.100</td>\n",
       "      <td>1</td>\n",
       "    </tr>\n",
       "    <tr>\n",
       "      <th>2</th>\n",
       "      <td>50</td>\n",
       "      <td>0.100</td>\n",
       "      <td>1</td>\n",
       "    </tr>\n",
       "    <tr>\n",
       "      <th>3</th>\n",
       "      <td>50</td>\n",
       "      <td>0.100</td>\n",
       "      <td>1</td>\n",
       "    </tr>\n",
       "    <tr>\n",
       "      <th>4</th>\n",
       "      <td>30</td>\n",
       "      <td>0.100</td>\n",
       "      <td>1</td>\n",
       "    </tr>\n",
       "    <tr>\n",
       "      <th>5</th>\n",
       "      <td>10</td>\n",
       "      <td>0.070</td>\n",
       "      <td>1</td>\n",
       "    </tr>\n",
       "    <tr>\n",
       "      <th>6</th>\n",
       "      <td>20</td>\n",
       "      <td>0.070</td>\n",
       "      <td>1</td>\n",
       "    </tr>\n",
       "    <tr>\n",
       "      <th>7</th>\n",
       "      <td>10</td>\n",
       "      <td>0.100</td>\n",
       "      <td>1</td>\n",
       "    </tr>\n",
       "    <tr>\n",
       "      <th>8</th>\n",
       "      <td>5</td>\n",
       "      <td>0.100</td>\n",
       "      <td>1</td>\n",
       "    </tr>\n",
       "    <tr>\n",
       "      <th>9</th>\n",
       "      <td>10</td>\n",
       "      <td>0.070</td>\n",
       "      <td>1</td>\n",
       "    </tr>\n",
       "    <tr>\n",
       "      <th>10</th>\n",
       "      <td>10</td>\n",
       "      <td>0.070</td>\n",
       "      <td>1</td>\n",
       "    </tr>\n",
       "  </tbody>\n",
       "</table>\n",
       "</div>"
      ],
      "text/plain": [
       "    capacities  outage_rates  status\n",
       "1           50         0.100       1\n",
       "2           50         0.100       1\n",
       "3           50         0.100       1\n",
       "4           30         0.100       1\n",
       "5           10         0.070       1\n",
       "6           20         0.070       1\n",
       "7           10         0.100       1\n",
       "8            5         0.100       1\n",
       "9           10         0.070       1\n",
       "10          10         0.070       1"
      ]
     },
     "execution_count": 17,
     "metadata": {},
     "output_type": "execute_result"
    }
   ],
   "source": [
    "# extract csv\n",
    "df = pd.read_csv(f'../data/{CASE_NAME}')\n",
    "\n",
    "capacities = df['Capacity (MW)'].tolist()\n",
    "outage_rates = df['FOR (Outage)'].tolist()\n",
    "status = df['Status'].tolist()\n",
    "\n",
    "pd.DataFrame(data={'capacities': capacities,\n",
    "                   'outage_rates': outage_rates,\n",
    "                   'status': status},\n",
    "             index=pd.RangeIndex(1, len(capacities) + 1, 1)).head(10)"
   ]
  },
  {
   "cell_type": "code",
   "execution_count": null,
   "id": "dab9d632",
   "metadata": {},
   "outputs": [],
   "source": [
    "# filter only available generator\n",
    "generator_list = [[cap, 1-out] for cap, out, stat in sorted(zip(capacities, outage_rates, status), reverse=True) if stat]\n",
    "\n",
    "# make tables for each generator\n",
    "# TODO: Tables already support derating, input data should also support it from excel\n",
    "tables = [np.array([generator, [0, 1 - generator[1]]]) for generator in generator_list]"
   ]
  },
  {
   "cell_type": "markdown",
   "id": "82db4619-e51d-43fc-8a64-c2d73bc63b75",
   "metadata": {},
   "source": [
    "## COPT table"
   ]
  },
  {
   "cell_type": "code",
   "execution_count": null,
   "id": "2ae9bce1",
   "metadata": {},
   "outputs": [
    {
     "data": {
      "text/html": [
       "<div>\n",
       "<style scoped>\n",
       "    .dataframe tbody tr th:only-of-type {\n",
       "        vertical-align: middle;\n",
       "    }\n",
       "\n",
       "    .dataframe tbody tr th {\n",
       "        vertical-align: top;\n",
       "    }\n",
       "\n",
       "    .dataframe thead th {\n",
       "        text-align: right;\n",
       "    }\n",
       "</style>\n",
       "<table border=\"1\" class=\"dataframe\">\n",
       "  <thead>\n",
       "    <tr style=\"text-align: right;\">\n",
       "      <th></th>\n",
       "      <th>Combined Capacity</th>\n",
       "      <th>Individual Probability</th>\n",
       "      <th>Cumulative Probability</th>\n",
       "      <th>Reversed Cumulative Probability</th>\n",
       "    </tr>\n",
       "    <tr>\n",
       "      <th>No</th>\n",
       "      <th></th>\n",
       "      <th></th>\n",
       "      <th></th>\n",
       "      <th></th>\n",
       "    </tr>\n",
       "  </thead>\n",
       "  <tbody>\n",
       "    <tr>\n",
       "      <th>1</th>\n",
       "      <td>875.000</td>\n",
       "      <td>0.024</td>\n",
       "      <td>1.000</td>\n",
       "      <td>0.024</td>\n",
       "    </tr>\n",
       "    <tr>\n",
       "      <th>2</th>\n",
       "      <td>870.000</td>\n",
       "      <td>0.020</td>\n",
       "      <td>0.976</td>\n",
       "      <td>0.045</td>\n",
       "    </tr>\n",
       "    <tr>\n",
       "      <th>3</th>\n",
       "      <td>865.000</td>\n",
       "      <td>0.042</td>\n",
       "      <td>0.955</td>\n",
       "      <td>0.086</td>\n",
       "    </tr>\n",
       "    <tr>\n",
       "      <th>4</th>\n",
       "      <td>860.000</td>\n",
       "      <td>0.030</td>\n",
       "      <td>0.914</td>\n",
       "      <td>0.117</td>\n",
       "    </tr>\n",
       "    <tr>\n",
       "      <th>5</th>\n",
       "      <td>855.000</td>\n",
       "      <td>0.051</td>\n",
       "      <td>0.883</td>\n",
       "      <td>0.168</td>\n",
       "    </tr>\n",
       "    <tr>\n",
       "      <th>6</th>\n",
       "      <td>850.000</td>\n",
       "      <td>0.036</td>\n",
       "      <td>0.832</td>\n",
       "      <td>0.204</td>\n",
       "    </tr>\n",
       "    <tr>\n",
       "      <th>7</th>\n",
       "      <td>845.000</td>\n",
       "      <td>0.050</td>\n",
       "      <td>0.796</td>\n",
       "      <td>0.254</td>\n",
       "    </tr>\n",
       "    <tr>\n",
       "      <th>8</th>\n",
       "      <td>840.000</td>\n",
       "      <td>0.034</td>\n",
       "      <td>0.746</td>\n",
       "      <td>0.287</td>\n",
       "    </tr>\n",
       "    <tr>\n",
       "      <th>9</th>\n",
       "      <td>835.000</td>\n",
       "      <td>0.040</td>\n",
       "      <td>0.713</td>\n",
       "      <td>0.328</td>\n",
       "    </tr>\n",
       "    <tr>\n",
       "      <th>10</th>\n",
       "      <td>830.000</td>\n",
       "      <td>0.026</td>\n",
       "      <td>0.672</td>\n",
       "      <td>0.354</td>\n",
       "    </tr>\n",
       "  </tbody>\n",
       "</table>\n",
       "</div>"
      ],
      "text/plain": [
       "    Combined Capacity  Individual Probability  Cumulative Probability  \\\n",
       "No                                                                      \n",
       "1             875.000                   0.024                   1.000   \n",
       "2             870.000                   0.020                   0.976   \n",
       "3             865.000                   0.042                   0.955   \n",
       "4             860.000                   0.030                   0.914   \n",
       "5             855.000                   0.051                   0.883   \n",
       "6             850.000                   0.036                   0.832   \n",
       "7             845.000                   0.050                   0.796   \n",
       "8             840.000                   0.034                   0.746   \n",
       "9             835.000                   0.040                   0.713   \n",
       "10            830.000                   0.026                   0.672   \n",
       "\n",
       "    Reversed Cumulative Probability  \n",
       "No                                   \n",
       "1                             0.024  \n",
       "2                             0.045  \n",
       "3                             0.086  \n",
       "4                             0.117  \n",
       "5                             0.168  \n",
       "6                             0.204  \n",
       "7                             0.254  \n",
       "8                             0.287  \n",
       "9                             0.328  \n",
       "10                            0.354  "
      ]
     },
     "execution_count": 21,
     "metadata": {},
     "output_type": "execute_result"
    }
   ],
   "source": [
    "table = tables[0].copy()  # copy to avoid modifying data\n",
    "for table_ in tables[1:]:\n",
    "    # faster than flatten + transpose\n",
    "    table = np.hstack(((table[:, 0, None] + table_[:, 0]).reshape(-1,1),\n",
    "                       (table[:, 1, None] * table_[:, 1]).reshape(-1,1)))\n",
    "\n",
    "    # sort table\n",
    "    table = table[(-table[:, 0]).argsort(),:]\n",
    "\n",
    "    # combine duplicate\n",
    "    table = np.array([[k,sum([x[1] for x in list(g)])] \n",
    "                    for k,g in itertools.groupby(table, lambda x:x[0])])\n",
    "    \n",
    "    # TODO: Implement resample, useful for big COPT table, triggered only if max table length achieve\n",
    "\n",
    "# add cumulative probability\n",
    "table = np.hstack((table, np.atleast_2d(np.cumsum(table[::-1,1])[::-1]).T))\n",
    "table = np.hstack((table, np.atleast_2d(np.cumsum(table[:,1])).T))\n",
    "\n",
    "columns_name = ['Combined Capacity',\n",
    "                'Individual Probability',\n",
    "                'Cumulative Probability',\n",
    "                'Reversed Cumulative Probability']\n",
    "\n",
    "df = pd.DataFrame(data=table,\n",
    "                  columns=columns_name,\n",
    "                  index=pd.RangeIndex(1, len(table) + 1, 1, name='No'),\n",
    "                  )\n",
    "df.to_csv(f'../results/COPT_{CASE_NAME}')\n",
    "df.head(10)"
   ]
  },
  {
   "cell_type": "markdown",
   "id": "dfed40fb-aa1a-43df-a059-e0ae28ef3c37",
   "metadata": {},
   "source": [
    "## LOLP"
   ]
  },
  {
   "cell_type": "code",
   "execution_count": null,
   "id": "c7e0e659",
   "metadata": {},
   "outputs": [],
   "source": [
    "df = pd.read_csv(f'../results/COPT_{CASE_NAME}', index_col=0)\n",
    "table = df.values"
   ]
  },
  {
   "cell_type": "code",
   "execution_count": null,
   "id": "3c4f8693-b0e1-4826-b213-176edfa51a36",
   "metadata": {},
   "outputs": [],
   "source": [
    "def get_lolp(capacity, cumulative_probability, demand):\n",
    "    \"\"\"\n",
    "    format:\n",
    "        capacity (descend)\n",
    "        cumulative_probability(descend)\n",
    "    \"\"\"\n",
    "    try:\n",
    "        idx = np.where(capacity < demand)[0][0]\n",
    "    except IndexError:\n",
    "        idx = -1\n",
    "    return cumulative_probability[idx]"
   ]
  },
  {
   "cell_type": "code",
   "execution_count": null,
   "id": "ce73b337-4f89-486c-8691-29a3e8d32890",
   "metadata": {},
   "outputs": [
    {
     "data": {
      "text/plain": [
       "[0.0001933444358765,\n",
       " 1.4799527806098814e-07,\n",
       " 0.0001449366283941,\n",
       " 0.0032895996560149,\n",
       " 0.0050267079116176]"
      ]
     },
     "execution_count": 29,
     "metadata": {},
     "output_type": "execute_result"
    }
   ],
   "source": [
    "lolp = [get_lolp(table[:,0], table[:,2], demand) for demand in DEMANDS]\n",
    "lolp"
   ]
  },
  {
   "cell_type": "code",
   "execution_count": null,
   "id": "c5299c4b-126f-41e6-8ffc-9d9d89a4b006",
   "metadata": {},
   "outputs": [
    {
     "name": "stdout",
     "output_type": "stream",
     "text": [
      "Total LOLP: 0.1216\n"
     ]
    }
   ],
   "source": [
    "print(f'Total LOLP: {sum(lolp):.4f}')"
   ]
  },
  {
   "cell_type": "markdown",
   "id": "cf25bd80",
   "metadata": {},
   "source": [
    "## EENS"
   ]
  },
  {
   "cell_type": "code",
   "execution_count": null,
   "id": "4279f509",
   "metadata": {},
   "outputs": [],
   "source": [
    "df = pd.read_csv(f'../results/COPT_{CASE_NAME}', index_col=0)\n",
    "table = df.values"
   ]
  },
  {
   "cell_type": "code",
   "execution_count": null,
   "id": "d2abf3ce",
   "metadata": {},
   "outputs": [],
   "source": [
    "def get_eens(capacity, individual_probability, demand):\n",
    "    \"\"\"\n",
    "    format:\n",
    "        capacity\n",
    "        individual_probability\n",
    "    \"\"\"\n",
    "    return sum(individual_probability\n",
    "               * (capacity < demand)\n",
    "               * (demand - capacity))"
   ]
  },
  {
   "cell_type": "code",
   "execution_count": null,
   "id": "b8348716",
   "metadata": {},
   "outputs": [
    {
     "data": {
      "text/plain": [
       "[0.0040499933019519825,\n",
       " 2.4368428881072812e-06,\n",
       " 0.0030832711225689917,\n",
       " 0.07893220768003756,\n",
       " 0.12389429805751778]"
      ]
     },
     "execution_count": 84,
     "metadata": {},
     "output_type": "execute_result"
    }
   ],
   "source": [
    "eens = [get_eens(table[:,0], table[:,1], demand) for demand in DEMANDS]\n",
    "eens"
   ]
  },
  {
   "cell_type": "code",
   "execution_count": null,
   "id": "3f3bf48f",
   "metadata": {},
   "outputs": [
    {
     "name": "stdout",
     "output_type": "stream",
     "text": [
      "Total EENS: 0.2100\n"
     ]
    }
   ],
   "source": [
    "print(f'Total EENS: {sum(eens):.4f}')"
   ]
  },
  {
   "cell_type": "markdown",
   "id": "a3331581",
   "metadata": {},
   "source": [
    "## Load Shedding Cost"
   ]
  },
  {
   "cell_type": "code",
   "execution_count": null,
   "id": "1f785cba",
   "metadata": {},
   "outputs": [
    {
     "name": "stdout",
     "output_type": "stream",
     "text": [
      "3,149,433.11\n"
     ]
    }
   ],
   "source": [
    "print(f'{VOLL * sum(eens):,.2f}')"
   ]
  },
  {
   "cell_type": "code",
   "execution_count": null,
   "id": "b3b607b5",
   "metadata": {},
   "outputs": [],
   "source": []
  }
 ],
 "metadata": {
  "kernelspec": {
   "display_name": "Python 3.7.4 64-bit",
   "language": "python",
   "name": "python3"
  },
  "language_info": {
   "codemirror_mode": {
    "name": "ipython",
    "version": 3
   },
   "file_extension": ".py",
   "mimetype": "text/x-python",
   "name": "python",
   "nbconvert_exporter": "python",
   "pygments_lexer": "ipython3"
  },
  "vscode": {
   "interpreter": {
    "hash": "c539bf52739056728523ce4846b8571647250a403fa0a07ad5abaf30b2362796"
   }
  }
 },
 "nbformat": 4,
 "nbformat_minor": 5
}
