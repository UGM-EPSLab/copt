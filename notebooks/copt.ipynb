{
 "cells": [
  {
   "cell_type": "markdown",
   "id": "92f99698-91e7-41eb-83b3-d778c4c9d357",
   "metadata": {},
   "source": [
    "# COPT and LOLP Calculator"
   ]
  },
  {
   "cell_type": "markdown",
   "id": "5c9f077b-b37e-4371-a253-6049e38b88d5",
   "metadata": {},
   "source": [
    "## import and settting printer"
   ]
  },
  {
   "cell_type": "code",
   "execution_count": null,
   "id": "2da5fd93-5c2d-4630-b33d-5092fe128017",
   "metadata": {},
   "outputs": [],
   "source": [
    "import itertools\n",
    "import numpy as np\n",
    "import pandas as pd"
   ]
  },
  {
   "cell_type": "code",
   "execution_count": null,
   "id": "2b8073e2-b533-408c-a567-7af97aa33eee",
   "metadata": {},
   "outputs": [],
   "source": [
    "# setting numpy print option decimal places\n",
    "decimal_places = 3\n",
    "np.set_printoptions(precision=decimal_places, suppress=True)\n",
    "pd.set_option('display.float_format', '{:.3f}'.format)"
   ]
  },
  {
   "cell_type": "markdown",
   "id": "4269c2b3-e8a8-420c-958e-158269bcda16",
   "metadata": {},
   "source": [
    "## inputs"
   ]
  },
  {
   "cell_type": "markdown",
   "id": "ac0befe3",
   "metadata": {},
   "source": [
    "### choose between using csv file or manually edit the notebook"
   ]
  },
  {
   "cell_type": "code",
   "execution_count": null,
   "id": "d7bc3c64",
   "metadata": {},
   "outputs": [],
   "source": [
    "# # NOTE:\n",
    "# #   UNCOMMENT AND USE THIS CELL IF USING CSV INPUT\n",
    "# #   COMMENT IF USING MANUAL INPUT\n",
    "# # csv input path\n",
    "# df = pd.read_csv('../data/COPT Case.csv')\n",
    "\n",
    "# # extract csv\n",
    "# capacities = df['Capacity (MW)'].tolist()\n",
    "# outage_rates = df['FOR (Outage)'].tolist()\n",
    "# status = [True] * len(df.index)"
   ]
  },
  {
   "cell_type": "code",
   "execution_count": null,
   "id": "ace5244d",
   "metadata": {},
   "outputs": [],
   "source": [
    "# NOTE:\n",
    "#   UNCOMMENT AND USE THIS CELL IF USING MANUAL INPUT\n",
    "#   COMMENT IF USING CSV INPUT\n",
    "# max capacity\n",
    "capacities = [\n",
    "    80,\n",
    "    70,\n",
    "    40,\n",
    "    50,\n",
    "    40,\n",
    "    50\n",
    "]\n",
    "\n",
    "# forced outage rate\n",
    "outage_rates = [\n",
    "    0.1, \n",
    "    0.2,\n",
    "    0.1,\n",
    "    0.2,\n",
    "    0.1,\n",
    "    0.1\n",
    "]\n",
    "\n",
    "\n",
    "# status of generator,\n",
    "#     True: exist\n",
    "#     False: not exist\n",
    "status = [\n",
    "    True,\n",
    "    False,\n",
    "    True,\n",
    "    True,\n",
    "    True,\n",
    "    True,\n",
    "]"
   ]
  },
  {
   "cell_type": "code",
   "execution_count": null,
   "id": "f5e2e5b7-90f9-4be3-8ed3-786a2c606ce9",
   "metadata": {},
   "outputs": [
    {
     "data": {
      "text/html": [
       "<div>\n",
       "<style scoped>\n",
       "    .dataframe tbody tr th:only-of-type {\n",
       "        vertical-align: middle;\n",
       "    }\n",
       "\n",
       "    .dataframe tbody tr th {\n",
       "        vertical-align: top;\n",
       "    }\n",
       "\n",
       "    .dataframe thead th {\n",
       "        text-align: right;\n",
       "    }\n",
       "</style>\n",
       "<table border=\"1\" class=\"dataframe\">\n",
       "  <thead>\n",
       "    <tr style=\"text-align: right;\">\n",
       "      <th></th>\n",
       "      <th>capacities</th>\n",
       "      <th>outage_rates</th>\n",
       "      <th>status</th>\n",
       "    </tr>\n",
       "  </thead>\n",
       "  <tbody>\n",
       "    <tr>\n",
       "      <th>1</th>\n",
       "      <td>80</td>\n",
       "      <td>0.100</td>\n",
       "      <td>True</td>\n",
       "    </tr>\n",
       "    <tr>\n",
       "      <th>2</th>\n",
       "      <td>70</td>\n",
       "      <td>0.200</td>\n",
       "      <td>False</td>\n",
       "    </tr>\n",
       "    <tr>\n",
       "      <th>3</th>\n",
       "      <td>40</td>\n",
       "      <td>0.100</td>\n",
       "      <td>True</td>\n",
       "    </tr>\n",
       "    <tr>\n",
       "      <th>4</th>\n",
       "      <td>50</td>\n",
       "      <td>0.200</td>\n",
       "      <td>True</td>\n",
       "    </tr>\n",
       "    <tr>\n",
       "      <th>5</th>\n",
       "      <td>40</td>\n",
       "      <td>0.100</td>\n",
       "      <td>True</td>\n",
       "    </tr>\n",
       "    <tr>\n",
       "      <th>6</th>\n",
       "      <td>50</td>\n",
       "      <td>0.100</td>\n",
       "      <td>True</td>\n",
       "    </tr>\n",
       "  </tbody>\n",
       "</table>\n",
       "</div>"
      ],
      "text/plain": [
       "   capacities  outage_rates  status\n",
       "1          80         0.100    True\n",
       "2          70         0.200   False\n",
       "3          40         0.100    True\n",
       "4          50         0.200    True\n",
       "5          40         0.100    True\n",
       "6          50         0.100    True"
      ]
     },
     "execution_count": 5,
     "metadata": {},
     "output_type": "execute_result"
    }
   ],
   "source": [
    "pd.DataFrame(data={'capacities': capacities,\n",
    "                   'outage_rates': outage_rates,\n",
    "                   'status': status},\n",
    "             index=pd.RangeIndex(1, len(capacities) + 1, 1)).head(10)"
   ]
  },
  {
   "cell_type": "code",
   "execution_count": null,
   "id": "73e02ed9",
   "metadata": {},
   "outputs": [],
   "source": [
    "# peak load or load at time considering\n",
    "# used to calculate LOLP\n",
    "demands = [190, 170, 185, 150, 70]"
   ]
  },
  {
   "cell_type": "markdown",
   "id": "82db4619-e51d-43fc-8a64-c2d73bc63b75",
   "metadata": {},
   "source": [
    "## COPT table"
   ]
  },
  {
   "cell_type": "code",
   "execution_count": null,
   "id": "d957450f",
   "metadata": {},
   "outputs": [],
   "source": [
    "BATCH_SIZE = 10\n",
    "MIN_COVERAGE = 0.80"
   ]
  },
  {
   "cell_type": "code",
   "execution_count": null,
   "id": "bb3e48c2",
   "metadata": {},
   "outputs": [],
   "source": [
    "ls = [[cap, out] for cap, out, stat in sorted(zip(capacities, outage_rates, status), reverse=True) if stat]\n",
    "capacities_fix = [[cap, 0] for cap, _ in ls]\n",
    "probabilities_fix = [[1-out, out] for _, out in ls]\n",
    "\n",
    "capacities_combination_generator = itertools.product(*capacities_fix)\n",
    "probabilities_combinations_generator = itertools.product(*probabilities_fix)\n",
    "\n",
    "capacity_merged = []\n",
    "probability_merged = []\n",
    "\n",
    "while sum(probability_merged) <= MIN_COVERAGE:\n",
    "    capacity_merged += [sum(i) for i in itertools.islice(capacities_combination_generator, BATCH_SIZE)]\n",
    "    probability_merged += [np.prod(i) for i in itertools.islice(probabilities_combinations_generator, BATCH_SIZE)]\n",
    "\n",
    "# combine capacity and individual probability\n",
    "table = np.vstack([capacity_merged, probability_merged]).T\n",
    "\n",
    "# sort the combined table\n",
    "table = table[(-table[:, 0]).argsort(),:]\n",
    "\n",
    "# combine duplicate\n",
    "table = np.array([[k,sum([x[1] for x in list(g)])] \n",
    "                 for k,g in itertools.groupby(table, lambda x:x[0])])\n",
    "\n",
    "# add cumulative probability\n",
    "table = np.hstack((table, np.atleast_2d(np.cumsum(table[::-1,1])[::-1]).T))\n",
    "table = np.hstack((table, np.atleast_2d(np.cumsum(table[:,1])).T))"
   ]
  },
  {
   "cell_type": "code",
   "execution_count": null,
   "id": "d2c583eb",
   "metadata": {},
   "outputs": [
    {
     "data": {
      "text/html": [
       "<div>\n",
       "<style scoped>\n",
       "    .dataframe tbody tr th:only-of-type {\n",
       "        vertical-align: middle;\n",
       "    }\n",
       "\n",
       "    .dataframe tbody tr th {\n",
       "        vertical-align: top;\n",
       "    }\n",
       "\n",
       "    .dataframe thead th {\n",
       "        text-align: right;\n",
       "    }\n",
       "</style>\n",
       "<table border=\"1\" class=\"dataframe\">\n",
       "  <thead>\n",
       "    <tr style=\"text-align: right;\">\n",
       "      <th></th>\n",
       "      <th>Combined Capacity</th>\n",
       "      <th>Individual Probability</th>\n",
       "      <th>Cumulative Probability</th>\n",
       "      <th>Reversed Cumulative Probability</th>\n",
       "    </tr>\n",
       "  </thead>\n",
       "  <tbody>\n",
       "    <tr>\n",
       "      <th>1</th>\n",
       "      <td>260.000</td>\n",
       "      <td>0.525</td>\n",
       "      <td>0.866</td>\n",
       "      <td>0.525</td>\n",
       "    </tr>\n",
       "    <tr>\n",
       "      <th>2</th>\n",
       "      <td>220.000</td>\n",
       "      <td>0.117</td>\n",
       "      <td>0.341</td>\n",
       "      <td>0.642</td>\n",
       "    </tr>\n",
       "    <tr>\n",
       "      <th>3</th>\n",
       "      <td>210.000</td>\n",
       "      <td>0.190</td>\n",
       "      <td>0.224</td>\n",
       "      <td>0.831</td>\n",
       "    </tr>\n",
       "    <tr>\n",
       "      <th>4</th>\n",
       "      <td>180.000</td>\n",
       "      <td>0.006</td>\n",
       "      <td>0.035</td>\n",
       "      <td>0.838</td>\n",
       "    </tr>\n",
       "    <tr>\n",
       "      <th>5</th>\n",
       "      <td>170.000</td>\n",
       "      <td>0.028</td>\n",
       "      <td>0.028</td>\n",
       "      <td>0.865</td>\n",
       "    </tr>\n",
       "    <tr>\n",
       "      <th>6</th>\n",
       "      <td>130.000</td>\n",
       "      <td>0.001</td>\n",
       "      <td>0.001</td>\n",
       "      <td>0.866</td>\n",
       "    </tr>\n",
       "  </tbody>\n",
       "</table>\n",
       "</div>"
      ],
      "text/plain": [
       "   Combined Capacity  Individual Probability  Cumulative Probability  \\\n",
       "1            260.000                   0.525                   0.866   \n",
       "2            220.000                   0.117                   0.341   \n",
       "3            210.000                   0.190                   0.224   \n",
       "4            180.000                   0.006                   0.035   \n",
       "5            170.000                   0.028                   0.028   \n",
       "6            130.000                   0.001                   0.001   \n",
       "\n",
       "   Reversed Cumulative Probability  \n",
       "1                            0.525  \n",
       "2                            0.642  \n",
       "3                            0.831  \n",
       "4                            0.838  \n",
       "5                            0.865  \n",
       "6                            0.866  "
      ]
     },
     "execution_count": 9,
     "metadata": {},
     "output_type": "execute_result"
    }
   ],
   "source": [
    "columns_name = ['Combined Capacity',\n",
    "                'Individual Probability',\n",
    "                'Cumulative Probability',\n",
    "                'Reversed Cumulative Probability']\n",
    "\n",
    "pd.DataFrame(data=table, columns=columns_name, index=pd.RangeIndex(1, len(table) + 1, 1))"
   ]
  },
  {
   "cell_type": "markdown",
   "id": "dfed40fb-aa1a-43df-a059-e0ae28ef3c37",
   "metadata": {},
   "source": [
    "## LOLP"
   ]
  },
  {
   "cell_type": "code",
   "execution_count": null,
   "id": "3c4f8693-b0e1-4826-b213-176edfa51a36",
   "metadata": {},
   "outputs": [],
   "source": [
    "def get_lolp(capacity, cumulative_probability, demand):\n",
    "    \"\"\"\n",
    "    format:\n",
    "        capacity (descend)\n",
    "        cumulative_probability(descend)\n",
    "    \"\"\"\n",
    "    try:\n",
    "        idx = np.where(capacity < demand)[0][0]\n",
    "    except IndexError:\n",
    "        idx = -1\n",
    "    return cumulative_probability[idx]"
   ]
  },
  {
   "cell_type": "code",
   "execution_count": null,
   "id": "ce73b337-4f89-486c-8691-29a3e8d32890",
   "metadata": {},
   "outputs": [
    {
     "data": {
      "text/plain": [
       "[0.03474000000000001,\n",
       " 0.0007200000000000002,\n",
       " 0.03474000000000001,\n",
       " 0.0007200000000000002,\n",
       " 0.0007200000000000002]"
      ]
     },
     "execution_count": 24,
     "metadata": {},
     "output_type": "execute_result"
    }
   ],
   "source": [
    "lolp = [get_lolp(table[:,0], table[:,2], demand) for demand in demands]\n",
    "lolp"
   ]
  },
  {
   "cell_type": "code",
   "execution_count": null,
   "id": "c5299c4b-126f-41e6-8ffc-9d9d89a4b006",
   "metadata": {},
   "outputs": [
    {
     "name": "stdout",
     "output_type": "stream",
     "text": [
      "Total LOLP: 0.0709\n"
     ]
    }
   ],
   "source": [
    "print(f'Total LOLP: {sum(lolp):.4f}')"
   ]
  },
  {
   "cell_type": "code",
   "execution_count": null,
   "id": "cf25bd80",
   "metadata": {},
   "outputs": [],
   "source": []
  }
 ],
 "metadata": {
  "kernelspec": {
   "display_name": "Python 3.7.4 64-bit",
   "language": "python",
   "name": "python3"
  },
  "language_info": {
   "codemirror_mode": {
    "name": "ipython",
    "version": 3
   },
   "file_extension": ".py",
   "mimetype": "text/x-python",
   "name": "python",
   "nbconvert_exporter": "python",
   "pygments_lexer": "ipython3"
  },
  "vscode": {
   "interpreter": {
    "hash": "c539bf52739056728523ce4846b8571647250a403fa0a07ad5abaf30b2362796"
   }
  }
 },
 "nbformat": 4,
 "nbformat_minor": 5
}
