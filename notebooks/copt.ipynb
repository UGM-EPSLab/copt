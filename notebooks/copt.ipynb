{
 "cells": [
  {
   "cell_type": "code",
   "execution_count": 90,
   "id": "2da5fd93-5c2d-4630-b33d-5092fe128017",
   "metadata": {},
   "outputs": [],
   "source": [
    "import numpy as np "
   ]
  },
  {
   "cell_type": "code",
   "execution_count": 115,
   "id": "2b8073e2-b533-408c-a567-7af97aa33eee",
   "metadata": {},
   "outputs": [],
   "source": [
    "np.set_printoptions(precision=3, suppress=True)"
   ]
  },
  {
   "cell_type": "code",
   "execution_count": 91,
   "id": "f5e2e5b7-90f9-4be3-8ed3-786a2c606ce9",
   "metadata": {},
   "outputs": [
    {
     "name": "stdout",
     "output_type": "stream",
     "text": [
      "[80, 70, 40, 50]\n"
     ]
    }
   ],
   "source": [
    "capacities = [\n",
    "    80,\n",
    "    70,\n",
    "    40,\n",
    "    50\n",
    "]\n",
    "print(capacities)"
   ]
  },
  {
   "cell_type": "code",
   "execution_count": 92,
   "id": "ce0cba62-83a1-4c09-ac2a-0e28fd61ffd0",
   "metadata": {},
   "outputs": [
    {
     "name": "stdout",
     "output_type": "stream",
     "text": [
      "[0.1, 0.2, 0.1, 0.2]\n"
     ]
    }
   ],
   "source": [
    "outage_rates = [\n",
    "    0.1, \n",
    "    0.2,\n",
    "    0.1,\n",
    "    0.2\n",
    "]\n",
    "print(outage_rates)"
   ]
  },
  {
   "cell_type": "code",
   "execution_count": 93,
   "id": "8ee5c4e7-128d-430a-ab69-cb3a0f114e25",
   "metadata": {},
   "outputs": [],
   "source": [
    "status = [\n",
    "    True,\n",
    "    False,\n",
    "    True,\n",
    "    True\n",
    "]"
   ]
  },
  {
   "cell_type": "code",
   "execution_count": 173,
   "id": "f378afd3-7f51-4161-b038-05ba452c5d3e",
   "metadata": {},
   "outputs": [],
   "source": [
    "demand = 90"
   ]
  },
  {
   "cell_type": "code",
   "execution_count": 107,
   "id": "8ee9ee78-4cbb-4a48-be23-dc9386691f3f",
   "metadata": {},
   "outputs": [
    {
     "data": {
      "text/plain": [
       "([[80, 0], [40, 0], [50, 0]], [[0.9, 0.1], [0.9, 0.1], [0.8, 0.2]])"
      ]
     },
     "execution_count": 107,
     "metadata": {},
     "output_type": "execute_result"
    }
   ],
   "source": [
    "capacities_fix = [[capacities[i], 0] for i in range(len(status)) if status[i]]\n",
    "probabilities_fix = [[1-rates[i], rates[i]] for i in range(len(status)) if status[i]]\n",
    "\n",
    "capacities_fix, probabilities_fix"
   ]
  },
  {
   "cell_type": "code",
   "execution_count": 109,
   "id": "de73511b-5d01-4fcd-b088-1e6356ca3753",
   "metadata": {},
   "outputs": [
    {
     "name": "stdout",
     "output_type": "stream",
     "text": [
      "[(80, 40, 50), (80, 40, 0), (80, 0, 50), (80, 0, 0), (0, 40, 50), (0, 40, 0), (0, 0, 50), (0, 0, 0)]\n",
      "[(0.9, 0.9, 0.8), (0.9, 0.9, 0.2), (0.9, 0.1, 0.8), (0.9, 0.1, 0.2), (0.1, 0.9, 0.8), (0.1, 0.9, 0.2), (0.1, 0.1, 0.8), (0.1, 0.1, 0.2)]\n"
     ]
    }
   ],
   "source": [
    "capacities_combination = list(itertools.product(*capacities_fix))\n",
    "probabilities_combinations = list(itertools.product(*probabilities_fix))\n",
    "\n",
    "print(capacities_combination)\n",
    "print(probabilities_combinations)"
   ]
  },
  {
   "cell_type": "code",
   "execution_count": 170,
   "id": "5a1ec395-c532-4031-bbfc-083fbf06bef1",
   "metadata": {},
   "outputs": [
    {
     "data": {
      "text/plain": [
       "array([[170.   ,   0.648],\n",
       "       [130.   ,   0.072],\n",
       "       [120.   ,   0.162],\n",
       "       [ 90.   ,   0.072],\n",
       "       [ 80.   ,   0.018],\n",
       "       [ 50.   ,   0.008],\n",
       "       [ 40.   ,   0.018],\n",
       "       [  0.   ,   0.002]])"
      ]
     },
     "execution_count": 170,
     "metadata": {},
     "output_type": "execute_result"
    }
   ],
   "source": [
    "capacity_merged = np.array([sum(i) for i in capacities_combination])\n",
    "probability_merged = np.array([np.prod(i) for i in probabilities_combinations])\n",
    "\n",
    "table = np.vstack([capacity_merged, probability_merged]).T\n",
    "table = table[(-table[:, 0]).argsort(),:]\n",
    "table"
   ]
  },
  {
   "cell_type": "code",
   "execution_count": 172,
   "id": "38dc811a-54cf-46d4-85ff-d37159702e4c",
   "metadata": {},
   "outputs": [
    {
     "data": {
      "text/plain": [
       "array([[170.   ,   0.648,   1.   ],\n",
       "       [130.   ,   0.072,   0.352],\n",
       "       [120.   ,   0.162,   0.28 ],\n",
       "       [ 90.   ,   0.072,   0.118],\n",
       "       [ 80.   ,   0.018,   0.046],\n",
       "       [ 50.   ,   0.008,   0.028],\n",
       "       [ 40.   ,   0.018,   0.02 ],\n",
       "       [  0.   ,   0.002,   0.002]])"
      ]
     },
     "execution_count": 172,
     "metadata": {},
     "output_type": "execute_result"
    }
   ],
   "source": [
    "cumulative_probability = np.zeros(len(probability_merged))\n",
    "\n",
    "val = 0\n",
    "for i in reversed(range(len(cumulative_probability))):\n",
    "    val += table[i,1]\n",
    "    cumulative_probability[i] = val\n",
    "\n",
    "table = np.column_stack([table, cumulative_probability])\n",
    "table"
   ]
  },
  {
   "cell_type": "code",
   "execution_count": 181,
   "id": "3c4f8693-b0e1-4826-b213-176edfa51a36",
   "metadata": {},
   "outputs": [],
   "source": [
    "def get_lolp(capacity, cumulative_probability, demand):\n",
    "    \"\"\"\n",
    "    format:\n",
    "        capacity (descend)\n",
    "        cumulative_probability(descend)\n",
    "    \"\"\"\n",
    "    idx = np.argmax(capacity < demand)\n",
    "    return cumulative_probability[idx]"
   ]
  },
  {
   "cell_type": "code",
   "execution_count": 186,
   "id": "ce73b337-4f89-486c-8691-29a3e8d32890",
   "metadata": {},
   "outputs": [
    {
     "data": {
      "text/plain": [
       "0.046000000000000006"
      ]
     },
     "execution_count": 186,
     "metadata": {},
     "output_type": "execute_result"
    }
   ],
   "source": [
    "lolp = get_lolp(table[:,0], table[:,2], demand)\n",
    "lolp"
   ]
  },
  {
   "cell_type": "code",
   "execution_count": null,
   "id": "d756239d-9305-4351-998e-5fc98b36ca0e",
   "metadata": {},
   "outputs": [],
   "source": []
  }
 ],
 "metadata": {
  "kernelspec": {
   "display_name": "Python 3",
   "language": "python",
   "name": "python3"
  },
  "language_info": {
   "codemirror_mode": {
    "name": "ipython",
    "version": 3
   },
   "file_extension": ".py",
   "mimetype": "text/x-python",
   "name": "python",
   "nbconvert_exporter": "python",
   "pygments_lexer": "ipython3",
   "version": "3.7.4"
  }
 },
 "nbformat": 4,
 "nbformat_minor": 5
}
