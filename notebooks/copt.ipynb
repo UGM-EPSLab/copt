{
 "cells": [
  {
   "cell_type": "markdown",
   "id": "92f99698-91e7-41eb-83b3-d778c4c9d357",
   "metadata": {},
   "source": [
    "# COPT and LOLP Calculator"
   ]
  },
  {
   "cell_type": "markdown",
   "id": "5c9f077b-b37e-4371-a253-6049e38b88d5",
   "metadata": {},
   "source": [
    "## import and settting printer"
   ]
  },
  {
   "cell_type": "code",
   "execution_count": 1,
   "id": "2da5fd93-5c2d-4630-b33d-5092fe128017",
   "metadata": {},
   "outputs": [],
   "source": [
    "import itertools\n",
    "import numpy as np\n",
    "import pandas as pd"
   ]
  },
  {
   "cell_type": "code",
   "execution_count": 2,
   "id": "2b8073e2-b533-408c-a567-7af97aa33eee",
   "metadata": {},
   "outputs": [],
   "source": [
    "# setting numpy print option decimal places\n",
    "decimal_places = 3\n",
    "np.set_printoptions(precision=decimal_places, suppress=True)\n",
    "pd.set_option('display.float_format', '{:.3f}'.format)"
   ]
  },
  {
   "cell_type": "markdown",
   "id": "4269c2b3-e8a8-420c-958e-158269bcda16",
   "metadata": {},
   "source": [
    "## inputs"
   ]
  },
  {
   "cell_type": "markdown",
   "id": "ac0befe3",
   "metadata": {},
   "source": [
    "### choose between using csv file or manually edit the notebook"
   ]
  },
  {
   "cell_type": "code",
   "execution_count": 3,
   "id": "d7bc3c64",
   "metadata": {},
   "outputs": [],
   "source": [
    "# # NOTE: UNCOMMENT AND USE THIS CELL IF USING CSV INPUT\n",
    "# # csv input path\n",
    "# df = pd.read_csv('../data/COPT Case.csv')\n",
    "\n",
    "# # extract csv\n",
    "# capacities = df['Capacity (MW)'].tolist()\n",
    "# outage_rates = df['FOR (Outage)'].tolist()\n",
    "# status = [True] * len(df.index)"
   ]
  },
  {
   "cell_type": "code",
   "execution_count": 4,
   "id": "ace5244d",
   "metadata": {},
   "outputs": [],
   "source": [
    "# NOTE: UNCOMMENT AND USE THIS CELL IF USING MANUAL INPUT\n",
    "# max capacity\n",
    "capacities = [\n",
    "    80,\n",
    "    70,\n",
    "    40,\n",
    "    50,\n",
    "    40,\n",
    "    50\n",
    "]\n",
    "\n",
    "# forced outage rate\n",
    "outage_rates = [\n",
    "    0.1, \n",
    "    0.2,\n",
    "    0.1,\n",
    "    0.2,\n",
    "    0.1,\n",
    "    0.1\n",
    "]\n",
    "\n",
    "\n",
    "# status of generator,\n",
    "#     True: exist\n",
    "#     False: not exist\n",
    "status = [\n",
    "    True,\n",
    "    False,\n",
    "    True,\n",
    "    True,\n",
    "    True,\n",
    "    True,\n",
    "]"
   ]
  },
  {
   "cell_type": "code",
   "execution_count": 5,
   "id": "f5e2e5b7-90f9-4be3-8ed3-786a2c606ce9",
   "metadata": {},
   "outputs": [
    {
     "data": {
      "text/html": [
       "<div>\n",
       "<style scoped>\n",
       "    .dataframe tbody tr th:only-of-type {\n",
       "        vertical-align: middle;\n",
       "    }\n",
       "\n",
       "    .dataframe tbody tr th {\n",
       "        vertical-align: top;\n",
       "    }\n",
       "\n",
       "    .dataframe thead th {\n",
       "        text-align: right;\n",
       "    }\n",
       "</style>\n",
       "<table border=\"1\" class=\"dataframe\">\n",
       "  <thead>\n",
       "    <tr style=\"text-align: right;\">\n",
       "      <th></th>\n",
       "      <th>capacities</th>\n",
       "      <th>outage_rates</th>\n",
       "      <th>status</th>\n",
       "    </tr>\n",
       "  </thead>\n",
       "  <tbody>\n",
       "    <tr>\n",
       "      <th>1</th>\n",
       "      <td>80</td>\n",
       "      <td>0.100</td>\n",
       "      <td>True</td>\n",
       "    </tr>\n",
       "    <tr>\n",
       "      <th>2</th>\n",
       "      <td>70</td>\n",
       "      <td>0.200</td>\n",
       "      <td>False</td>\n",
       "    </tr>\n",
       "    <tr>\n",
       "      <th>3</th>\n",
       "      <td>40</td>\n",
       "      <td>0.100</td>\n",
       "      <td>True</td>\n",
       "    </tr>\n",
       "    <tr>\n",
       "      <th>4</th>\n",
       "      <td>50</td>\n",
       "      <td>0.200</td>\n",
       "      <td>True</td>\n",
       "    </tr>\n",
       "    <tr>\n",
       "      <th>5</th>\n",
       "      <td>40</td>\n",
       "      <td>0.100</td>\n",
       "      <td>True</td>\n",
       "    </tr>\n",
       "    <tr>\n",
       "      <th>6</th>\n",
       "      <td>50</td>\n",
       "      <td>0.100</td>\n",
       "      <td>True</td>\n",
       "    </tr>\n",
       "  </tbody>\n",
       "</table>\n",
       "</div>"
      ],
      "text/plain": [
       "   capacities  outage_rates  status\n",
       "1          80         0.100    True\n",
       "2          70         0.200   False\n",
       "3          40         0.100    True\n",
       "4          50         0.200    True\n",
       "5          40         0.100    True\n",
       "6          50         0.100    True"
      ]
     },
     "execution_count": 5,
     "metadata": {},
     "output_type": "execute_result"
    }
   ],
   "source": [
    "pd.DataFrame(data={'capacities': capacities,\n",
    "                   'outage_rates': outage_rates,\n",
    "                   'status': status},\n",
    "             index=pd.RangeIndex(1, len(capacities) + 1, 1))"
   ]
  },
  {
   "cell_type": "code",
   "execution_count": 6,
   "id": "73e02ed9",
   "metadata": {},
   "outputs": [],
   "source": [
    "# peak load or load at time considering\n",
    "# used to calculate LOLP\n",
    "demands = [90, 100, 125, 50]"
   ]
  },
  {
   "cell_type": "markdown",
   "id": "63a3782f-746f-49dc-99b3-cee3fc3513a4",
   "metadata": {},
   "source": [
    "## creating data"
   ]
  },
  {
   "cell_type": "code",
   "execution_count": 7,
   "id": "3ff5e693",
   "metadata": {},
   "outputs": [
    {
     "name": "stdout",
     "output_type": "stream",
     "text": [
      "[[80, 0], [50, 0], [50, 0], [40, 0], [40, 0]]\n",
      "[[0.9, 0.1], [0.8, 0.2], [0.9, 0.1], [0.9, 0.1], [0.9, 0.1]]\n"
     ]
    }
   ],
   "source": [
    "ls = [[cap, out] for cap, out, stat in sorted(zip(capacities, outage_rates, status), reverse=True) if stat]\n",
    "capacities_fix = [[cap, 0] for cap, _ in ls]\n",
    "probabilities_fix = [[1-out, out] for _, out in ls]\n",
    "\n",
    "# TODO: Avoid using list here as the generator can produces very high number of combinations\n",
    "capacities_combination = list(itertools.product(*capacities_fix))\n",
    "probabilities_combinations = list(itertools.product(*probabilities_fix))"
   ]
  },
  {
   "cell_type": "markdown",
   "id": "82db4619-e51d-43fc-8a64-c2d73bc63b75",
   "metadata": {},
   "source": [
    "## COPT table"
   ]
  },
  {
   "cell_type": "code",
   "execution_count": 9,
   "id": "bb3e48c2",
   "metadata": {},
   "outputs": [],
   "source": [
    "capacity_merged = np.array([sum(i) for i in capacities_combination])\n",
    "probability_merged = np.array([np.prod(i) for i in probabilities_combinations])\n",
    "\n",
    "# combine capacity and individual probability\n",
    "table = np.vstack([capacity_merged, probability_merged]).T\n",
    "\n",
    "# sort the combined table\n",
    "table = table[(-table[:, 0]).argsort(),:]\n",
    "\n",
    "# combine duplicate\n",
    "table = np.array([[k,sum([x[1] for x in list(g)])] \n",
    "                 for k,g in itertools.groupby(table, lambda x:x[0])])\n",
    "\n",
    "# add cumulative probability\n",
    "table = np.hstack((table, np.atleast_2d(np.cumsum(table[::-1,1])[::-1]).T))"
   ]
  },
  {
   "cell_type": "markdown",
   "id": "117eb0f2-1c21-4753-a747-44afb4a7fa64",
   "metadata": {},
   "source": [
    "## display COPT table"
   ]
  },
  {
   "cell_type": "code",
   "execution_count": 10,
   "id": "1d68150b-8c44-4d0b-83cb-bf4d193e69a0",
   "metadata": {},
   "outputs": [],
   "source": [
    "columns_name = ['Combined Capacity', 'Individual Probability', 'Cumulative Probability']"
   ]
  },
  {
   "cell_type": "code",
   "execution_count": 11,
   "id": "e9f9b660-7e4f-4a97-b012-2200be1d70fe",
   "metadata": {},
   "outputs": [
    {
     "data": {
      "text/html": [
       "<div>\n",
       "<style scoped>\n",
       "    .dataframe tbody tr th:only-of-type {\n",
       "        vertical-align: middle;\n",
       "    }\n",
       "\n",
       "    .dataframe tbody tr th {\n",
       "        vertical-align: top;\n",
       "    }\n",
       "\n",
       "    .dataframe thead th {\n",
       "        text-align: right;\n",
       "    }\n",
       "</style>\n",
       "<table border=\"1\" class=\"dataframe\">\n",
       "  <thead>\n",
       "    <tr style=\"text-align: right;\">\n",
       "      <th></th>\n",
       "      <th>Combined Capacity</th>\n",
       "      <th>Individual Probability</th>\n",
       "      <th>Cumulative Probability</th>\n",
       "    </tr>\n",
       "  </thead>\n",
       "  <tbody>\n",
       "    <tr>\n",
       "      <th>1</th>\n",
       "      <td>260.000</td>\n",
       "      <td>0.525</td>\n",
       "      <td>1.000</td>\n",
       "    </tr>\n",
       "    <tr>\n",
       "      <th>2</th>\n",
       "      <td>220.000</td>\n",
       "      <td>0.117</td>\n",
       "      <td>0.475</td>\n",
       "    </tr>\n",
       "    <tr>\n",
       "      <th>3</th>\n",
       "      <td>210.000</td>\n",
       "      <td>0.190</td>\n",
       "      <td>0.358</td>\n",
       "    </tr>\n",
       "    <tr>\n",
       "      <th>4</th>\n",
       "      <td>180.000</td>\n",
       "      <td>0.065</td>\n",
       "      <td>0.169</td>\n",
       "    </tr>\n",
       "    <tr>\n",
       "      <th>5</th>\n",
       "      <td>170.000</td>\n",
       "      <td>0.042</td>\n",
       "      <td>0.104</td>\n",
       "    </tr>\n",
       "    <tr>\n",
       "      <th>6</th>\n",
       "      <td>160.000</td>\n",
       "      <td>0.015</td>\n",
       "      <td>0.062</td>\n",
       "    </tr>\n",
       "    <tr>\n",
       "      <th>7</th>\n",
       "      <td>140.000</td>\n",
       "      <td>0.013</td>\n",
       "      <td>0.047</td>\n",
       "    </tr>\n",
       "    <tr>\n",
       "      <th>8</th>\n",
       "      <td>130.000</td>\n",
       "      <td>0.023</td>\n",
       "      <td>0.034</td>\n",
       "    </tr>\n",
       "    <tr>\n",
       "      <th>9</th>\n",
       "      <td>120.000</td>\n",
       "      <td>0.003</td>\n",
       "      <td>0.011</td>\n",
       "    </tr>\n",
       "    <tr>\n",
       "      <th>10</th>\n",
       "      <td>100.000</td>\n",
       "      <td>0.001</td>\n",
       "      <td>0.008</td>\n",
       "    </tr>\n",
       "    <tr>\n",
       "      <th>11</th>\n",
       "      <td>90.000</td>\n",
       "      <td>0.005</td>\n",
       "      <td>0.007</td>\n",
       "    </tr>\n",
       "    <tr>\n",
       "      <th>12</th>\n",
       "      <td>80.000</td>\n",
       "      <td>0.002</td>\n",
       "      <td>0.002</td>\n",
       "    </tr>\n",
       "    <tr>\n",
       "      <th>13</th>\n",
       "      <td>50.000</td>\n",
       "      <td>0.000</td>\n",
       "      <td>0.001</td>\n",
       "    </tr>\n",
       "    <tr>\n",
       "      <th>14</th>\n",
       "      <td>40.000</td>\n",
       "      <td>0.000</td>\n",
       "      <td>0.000</td>\n",
       "    </tr>\n",
       "    <tr>\n",
       "      <th>15</th>\n",
       "      <td>0.000</td>\n",
       "      <td>0.000</td>\n",
       "      <td>0.000</td>\n",
       "    </tr>\n",
       "  </tbody>\n",
       "</table>\n",
       "</div>"
      ],
      "text/plain": [
       "    Combined Capacity  Individual Probability  Cumulative Probability\n",
       "1             260.000                   0.525                   1.000\n",
       "2             220.000                   0.117                   0.475\n",
       "3             210.000                   0.190                   0.358\n",
       "4             180.000                   0.065                   0.169\n",
       "5             170.000                   0.042                   0.104\n",
       "6             160.000                   0.015                   0.062\n",
       "7             140.000                   0.013                   0.047\n",
       "8             130.000                   0.023                   0.034\n",
       "9             120.000                   0.003                   0.011\n",
       "10            100.000                   0.001                   0.008\n",
       "11             90.000                   0.005                   0.007\n",
       "12             80.000                   0.002                   0.002\n",
       "13             50.000                   0.000                   0.001\n",
       "14             40.000                   0.000                   0.000\n",
       "15              0.000                   0.000                   0.000"
      ]
     },
     "execution_count": 11,
     "metadata": {},
     "output_type": "execute_result"
    }
   ],
   "source": [
    "pd.DataFrame(data=table, columns=columns_name, index=pd.RangeIndex(1, len(table) + 1, 1))"
   ]
  },
  {
   "cell_type": "markdown",
   "id": "dfed40fb-aa1a-43df-a059-e0ae28ef3c37",
   "metadata": {},
   "source": [
    "## LOLP"
   ]
  },
  {
   "cell_type": "code",
   "execution_count": 12,
   "id": "3c4f8693-b0e1-4826-b213-176edfa51a36",
   "metadata": {},
   "outputs": [],
   "source": [
    "def get_lolp(capacity, cumulative_probability, demand):\n",
    "    \"\"\"\n",
    "    format:\n",
    "        capacity (descend)\n",
    "        cumulative_probability(descend)\n",
    "    \"\"\"\n",
    "    idx = np.argmax(capacity < demand)\n",
    "    return cumulative_probability[idx]"
   ]
  },
  {
   "cell_type": "code",
   "execution_count": 13,
   "id": "ce73b337-4f89-486c-8691-29a3e8d32890",
   "metadata": {},
   "outputs": [
    {
     "name": "stdout",
     "output_type": "stream",
     "text": [
      "[0.0024400000000000003, 0.007120000000000002, 0.011080000000000003, 0.0003800000000000001]\n"
     ]
    }
   ],
   "source": [
    "lolp = [get_lolp(table[:,0], table[:,2], demand) for demand in demands]\n",
    "print(lolp)"
   ]
  },
  {
   "cell_type": "code",
   "execution_count": 14,
   "id": "c5299c4b-126f-41e6-8ffc-9d9d89a4b006",
   "metadata": {},
   "outputs": [
    {
     "name": "stdout",
     "output_type": "stream",
     "text": [
      "Total LOLP: 0.0210\n"
     ]
    }
   ],
   "source": [
    "print(f'Total LOLP: {sum(lolp):.4f}')"
   ]
  },
  {
   "cell_type": "code",
   "execution_count": null,
   "id": "cf25bd80",
   "metadata": {},
   "outputs": [],
   "source": []
  }
 ],
 "metadata": {
  "kernelspec": {
   "display_name": "Python 3.7.4 64-bit",
   "language": "python",
   "name": "python3"
  },
  "language_info": {
   "codemirror_mode": {
    "name": "ipython",
    "version": 3
   },
   "file_extension": ".py",
   "mimetype": "text/x-python",
   "name": "python",
   "nbconvert_exporter": "python",
   "pygments_lexer": "ipython3"
  },
  "vscode": {
   "interpreter": {
    "hash": "c539bf52739056728523ce4846b8571647250a403fa0a07ad5abaf30b2362796"
   }
  }
 },
 "nbformat": 4,
 "nbformat_minor": 5
}
