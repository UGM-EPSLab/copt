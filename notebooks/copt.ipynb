{
 "cells": [
  {
   "cell_type": "markdown",
   "id": "92f99698-91e7-41eb-83b3-d778c4c9d357",
   "metadata": {},
   "source": [
    "# COPT and LOLP Calculator"
   ]
  },
  {
   "cell_type": "markdown",
   "id": "5c9f077b-b37e-4371-a253-6049e38b88d5",
   "metadata": {},
   "source": [
    "## import and settting printer"
   ]
  },
  {
   "cell_type": "code",
   "execution_count": 1,
   "id": "2da5fd93-5c2d-4630-b33d-5092fe128017",
   "metadata": {},
   "outputs": [],
   "source": [
    "import itertools\n",
    "\n",
    "import numpy as np\n",
    "import pandas as pd"
   ]
  },
  {
   "cell_type": "code",
   "execution_count": 2,
   "id": "2b8073e2-b533-408c-a567-7af97aa33eee",
   "metadata": {},
   "outputs": [],
   "source": [
    "# setting numpy print option decimal places\n",
    "decimal_places = 3\n",
    "np.set_printoptions(precision=decimal_places, suppress=True)\n",
    "pd.set_option('display.float_format', '{:.3f}'.format)"
   ]
  },
  {
   "cell_type": "markdown",
   "id": "4269c2b3-e8a8-420c-958e-158269bcda16",
   "metadata": {},
   "source": [
    "## inputs"
   ]
  },
  {
   "cell_type": "markdown",
   "id": "ac0befe3",
   "metadata": {},
   "source": [
    "### choose between using csv file or manually edit the notebook"
   ]
  },
  {
   "cell_type": "code",
   "execution_count": 3,
   "id": "d7bc3c64",
   "metadata": {},
   "outputs": [],
   "source": [
    "# NOTE:\n",
    "#   UNCOMMENT AND USE THIS CELL IF USING CSV INPUT\n",
    "#   COMMENT IF USING MANUAL INPUT\n",
    "# csv input path\n",
    "df = pd.read_csv('../data/COPT Case.csv')\n",
    "\n",
    "# extract csv\n",
    "capacities = df['Capacity (MW)'].tolist()\n",
    "outage_rates = df['FOR (Outage)'].tolist()\n",
    "status = [True] * len(df.index)"
   ]
  },
  {
   "cell_type": "code",
   "execution_count": 4,
   "id": "ace5244d",
   "metadata": {},
   "outputs": [],
   "source": [
    "# # NOTE:\n",
    "# #   UNCOMMENT AND USE THIS CELL IF USING MANUAL INPUT\n",
    "# #   COMMENT IF USING CSV INPUT\n",
    "# # max capacity\n",
    "# capacities = [\n",
    "#     80,\n",
    "#     70,\n",
    "#     40,\n",
    "#     50,\n",
    "#     40,\n",
    "#     50\n",
    "# ]\n",
    "\n",
    "# # forced outage rate\n",
    "# outage_rates = [\n",
    "#     0.1, \n",
    "#     0.2,\n",
    "#     0.1,\n",
    "#     0.2,\n",
    "#     0.1,\n",
    "#     0.1\n",
    "# ]\n",
    "\n",
    "\n",
    "# # status of generator,\n",
    "# #     True: exist\n",
    "# #     False: not exist\n",
    "# status = [\n",
    "#     True,\n",
    "#     False,\n",
    "#     True,\n",
    "#     True,\n",
    "#     True,\n",
    "#     True,\n",
    "# ]"
   ]
  },
  {
   "cell_type": "code",
   "execution_count": 5,
   "id": "f5e2e5b7-90f9-4be3-8ed3-786a2c606ce9",
   "metadata": {},
   "outputs": [
    {
     "data": {
      "text/html": [
       "<div>\n",
       "<style scoped>\n",
       "    .dataframe tbody tr th:only-of-type {\n",
       "        vertical-align: middle;\n",
       "    }\n",
       "\n",
       "    .dataframe tbody tr th {\n",
       "        vertical-align: top;\n",
       "    }\n",
       "\n",
       "    .dataframe thead th {\n",
       "        text-align: right;\n",
       "    }\n",
       "</style>\n",
       "<table border=\"1\" class=\"dataframe\">\n",
       "  <thead>\n",
       "    <tr style=\"text-align: right;\">\n",
       "      <th></th>\n",
       "      <th>capacities</th>\n",
       "      <th>outage_rates</th>\n",
       "      <th>status</th>\n",
       "    </tr>\n",
       "  </thead>\n",
       "  <tbody>\n",
       "    <tr>\n",
       "      <th>1</th>\n",
       "      <td>50</td>\n",
       "      <td>0.100</td>\n",
       "      <td>True</td>\n",
       "    </tr>\n",
       "    <tr>\n",
       "      <th>2</th>\n",
       "      <td>50</td>\n",
       "      <td>0.100</td>\n",
       "      <td>True</td>\n",
       "    </tr>\n",
       "    <tr>\n",
       "      <th>3</th>\n",
       "      <td>50</td>\n",
       "      <td>0.100</td>\n",
       "      <td>True</td>\n",
       "    </tr>\n",
       "    <tr>\n",
       "      <th>4</th>\n",
       "      <td>30</td>\n",
       "      <td>0.100</td>\n",
       "      <td>True</td>\n",
       "    </tr>\n",
       "    <tr>\n",
       "      <th>5</th>\n",
       "      <td>10</td>\n",
       "      <td>0.070</td>\n",
       "      <td>True</td>\n",
       "    </tr>\n",
       "    <tr>\n",
       "      <th>6</th>\n",
       "      <td>20</td>\n",
       "      <td>0.070</td>\n",
       "      <td>True</td>\n",
       "    </tr>\n",
       "    <tr>\n",
       "      <th>7</th>\n",
       "      <td>10</td>\n",
       "      <td>0.100</td>\n",
       "      <td>True</td>\n",
       "    </tr>\n",
       "    <tr>\n",
       "      <th>8</th>\n",
       "      <td>5</td>\n",
       "      <td>0.100</td>\n",
       "      <td>True</td>\n",
       "    </tr>\n",
       "    <tr>\n",
       "      <th>9</th>\n",
       "      <td>10</td>\n",
       "      <td>0.070</td>\n",
       "      <td>True</td>\n",
       "    </tr>\n",
       "    <tr>\n",
       "      <th>10</th>\n",
       "      <td>10</td>\n",
       "      <td>0.070</td>\n",
       "      <td>True</td>\n",
       "    </tr>\n",
       "  </tbody>\n",
       "</table>\n",
       "</div>"
      ],
      "text/plain": [
       "    capacities  outage_rates  status\n",
       "1           50         0.100    True\n",
       "2           50         0.100    True\n",
       "3           50         0.100    True\n",
       "4           30         0.100    True\n",
       "5           10         0.070    True\n",
       "6           20         0.070    True\n",
       "7           10         0.100    True\n",
       "8            5         0.100    True\n",
       "9           10         0.070    True\n",
       "10          10         0.070    True"
      ]
     },
     "execution_count": 5,
     "metadata": {},
     "output_type": "execute_result"
    }
   ],
   "source": [
    "pd.DataFrame(data={'capacities': capacities,\n",
    "                   'outage_rates': outage_rates,\n",
    "                   'status': status},\n",
    "             index=pd.RangeIndex(1, len(capacities) + 1, 1)).head(10)"
   ]
  },
  {
   "cell_type": "code",
   "execution_count": 6,
   "id": "73e02ed9",
   "metadata": {},
   "outputs": [],
   "source": [
    "# peak load or load at time considering\n",
    "# used to calculate LOLP\n",
    "demands = [590, 470, 585, 650, 660]"
   ]
  },
  {
   "cell_type": "markdown",
   "id": "8b526984",
   "metadata": {},
   "source": [
    "## Parameters"
   ]
  },
  {
   "cell_type": "code",
   "execution_count": 7,
   "id": "d957450f",
   "metadata": {},
   "outputs": [],
   "source": [
    "# NOTE:\n",
    "#   There is two batch, bathc in evaluating of permutation and batch in making COPT.\n",
    "\n",
    "BATCH_PRODUCT = 100  # batch size for each making table before combine duplicate\n",
    "MIN_COVERAGE = 1  # early stopper\n",
    "BATCH_GENERATOR = 10\n",
    "\n",
    "# TODO:\n",
    "#   1. Implement resample, useful for big COPT table, triggered only if max table length achieved"
   ]
  },
  {
   "cell_type": "markdown",
   "id": "82db4619-e51d-43fc-8a64-c2d73bc63b75",
   "metadata": {},
   "source": [
    "## COPT table"
   ]
  },
  {
   "cell_type": "code",
   "execution_count": 8,
   "id": "2ae9bce1",
   "metadata": {},
   "outputs": [
    {
     "data": {
      "text/html": [
       "<div>\n",
       "<style scoped>\n",
       "    .dataframe tbody tr th:only-of-type {\n",
       "        vertical-align: middle;\n",
       "    }\n",
       "\n",
       "    .dataframe tbody tr th {\n",
       "        vertical-align: top;\n",
       "    }\n",
       "\n",
       "    .dataframe thead th {\n",
       "        text-align: right;\n",
       "    }\n",
       "</style>\n",
       "<table border=\"1\" class=\"dataframe\">\n",
       "  <thead>\n",
       "    <tr style=\"text-align: right;\">\n",
       "      <th></th>\n",
       "      <th>Combined Capacity</th>\n",
       "      <th>Individual Probability</th>\n",
       "      <th>Cumulative Probability</th>\n",
       "      <th>Reversed Cumulative Probability</th>\n",
       "    </tr>\n",
       "  </thead>\n",
       "  <tbody>\n",
       "    <tr>\n",
       "      <th>1</th>\n",
       "      <td>875.000</td>\n",
       "      <td>0.024</td>\n",
       "      <td>1.000</td>\n",
       "      <td>0.024</td>\n",
       "    </tr>\n",
       "    <tr>\n",
       "      <th>2</th>\n",
       "      <td>870.000</td>\n",
       "      <td>0.020</td>\n",
       "      <td>0.976</td>\n",
       "      <td>0.045</td>\n",
       "    </tr>\n",
       "    <tr>\n",
       "      <th>3</th>\n",
       "      <td>865.000</td>\n",
       "      <td>0.042</td>\n",
       "      <td>0.955</td>\n",
       "      <td>0.086</td>\n",
       "    </tr>\n",
       "    <tr>\n",
       "      <th>4</th>\n",
       "      <td>860.000</td>\n",
       "      <td>0.030</td>\n",
       "      <td>0.914</td>\n",
       "      <td>0.117</td>\n",
       "    </tr>\n",
       "    <tr>\n",
       "      <th>5</th>\n",
       "      <td>855.000</td>\n",
       "      <td>0.051</td>\n",
       "      <td>0.883</td>\n",
       "      <td>0.168</td>\n",
       "    </tr>\n",
       "    <tr>\n",
       "      <th>6</th>\n",
       "      <td>850.000</td>\n",
       "      <td>0.036</td>\n",
       "      <td>0.832</td>\n",
       "      <td>0.204</td>\n",
       "    </tr>\n",
       "    <tr>\n",
       "      <th>7</th>\n",
       "      <td>845.000</td>\n",
       "      <td>0.050</td>\n",
       "      <td>0.796</td>\n",
       "      <td>0.254</td>\n",
       "    </tr>\n",
       "    <tr>\n",
       "      <th>8</th>\n",
       "      <td>840.000</td>\n",
       "      <td>0.034</td>\n",
       "      <td>0.746</td>\n",
       "      <td>0.287</td>\n",
       "    </tr>\n",
       "    <tr>\n",
       "      <th>9</th>\n",
       "      <td>835.000</td>\n",
       "      <td>0.040</td>\n",
       "      <td>0.713</td>\n",
       "      <td>0.328</td>\n",
       "    </tr>\n",
       "    <tr>\n",
       "      <th>10</th>\n",
       "      <td>830.000</td>\n",
       "      <td>0.026</td>\n",
       "      <td>0.672</td>\n",
       "      <td>0.354</td>\n",
       "    </tr>\n",
       "  </tbody>\n",
       "</table>\n",
       "</div>"
      ],
      "text/plain": [
       "    Combined Capacity  Individual Probability  Cumulative Probability  \\\n",
       "1             875.000                   0.024                   1.000   \n",
       "2             870.000                   0.020                   0.976   \n",
       "3             865.000                   0.042                   0.955   \n",
       "4             860.000                   0.030                   0.914   \n",
       "5             855.000                   0.051                   0.883   \n",
       "6             850.000                   0.036                   0.832   \n",
       "7             845.000                   0.050                   0.796   \n",
       "8             840.000                   0.034                   0.746   \n",
       "9             835.000                   0.040                   0.713   \n",
       "10            830.000                   0.026                   0.672   \n",
       "\n",
       "    Reversed Cumulative Probability  \n",
       "1                             0.024  \n",
       "2                             0.045  \n",
       "3                             0.086  \n",
       "4                             0.117  \n",
       "5                             0.168  \n",
       "6                             0.204  \n",
       "7                             0.254  \n",
       "8                             0.287  \n",
       "9                             0.328  \n",
       "10                            0.354  "
      ]
     },
     "execution_count": 8,
     "metadata": {},
     "output_type": "execute_result"
    }
   ],
   "source": [
    "generator_list = [[cap, 1-out] for cap, out, stat in sorted(zip(capacities, outage_rates, status), reverse=True) if stat]\n",
    "\n",
    "tables = [np.array([generator, [0, 1 - generator[1]]]) for generator in generator_list]\n",
    "\n",
    "table = tables[0].copy()  # copy to avoid modifying data\n",
    "for table_ in tables[1:]:\n",
    "    # faster than flatten + transpose\n",
    "    table = np.hstack(((table[:, 0, None] + table_[:, 0]).reshape(-1,1),\n",
    "                       (table[:, 1, None] * table_[:, 1]).reshape(-1,1)))\n",
    "\n",
    "    # sort table\n",
    "    table = table[(-table[:, 0]).argsort(),:]\n",
    "\n",
    "    # combine duplicate\n",
    "    table = np.array([[k,sum([x[1] for x in list(g)])] \n",
    "                    for k,g in itertools.groupby(table, lambda x:x[0])])\n",
    "\n",
    "# add cumulative probability\n",
    "table = np.hstack((table, np.atleast_2d(np.cumsum(table[::-1,1])[::-1]).T))\n",
    "table = np.hstack((table, np.atleast_2d(np.cumsum(table[:,1])).T))\n",
    "\n",
    "columns_name = ['Combined Capacity',\n",
    "                'Individual Probability',\n",
    "                'Cumulative Probability',\n",
    "                'Reversed Cumulative Probability']\n",
    "\n",
    "df = pd.DataFrame(data=table,\n",
    "                  columns=columns_name,\n",
    "                  index=pd.RangeIndex(1, len(table) + 1, 1))\n",
    "df.to_csv('../results/merged.csv')\n",
    "df.head(10)"
   ]
  },
  {
   "cell_type": "markdown",
   "id": "dfed40fb-aa1a-43df-a059-e0ae28ef3c37",
   "metadata": {},
   "source": [
    "## LOLP"
   ]
  },
  {
   "cell_type": "code",
   "execution_count": 9,
   "id": "3c4f8693-b0e1-4826-b213-176edfa51a36",
   "metadata": {},
   "outputs": [],
   "source": [
    "def get_lolp(capacity, cumulative_probability, demand):\n",
    "    \"\"\"\n",
    "    format:\n",
    "        capacity (descend)\n",
    "        cumulative_probability(descend)\n",
    "    \"\"\"\n",
    "    try:\n",
    "        idx = np.where(capacity < demand)[0][0]\n",
    "    except IndexError:\n",
    "        idx = -1\n",
    "    return cumulative_probability[idx]"
   ]
  },
  {
   "cell_type": "code",
   "execution_count": 10,
   "id": "ce73b337-4f89-486c-8691-29a3e8d32890",
   "metadata": {},
   "outputs": [
    {
     "data": {
      "text/plain": [
       "[0.00019334443587659824,\n",
       " 1.4799527806098814e-07,\n",
       " 0.0001449366283941029,\n",
       " 0.003289599656014925,\n",
       " 0.0050267079116176625]"
      ]
     },
     "execution_count": 10,
     "metadata": {},
     "output_type": "execute_result"
    }
   ],
   "source": [
    "lolp = [get_lolp(table[:,0], table[:,2], demand) for demand in demands]\n",
    "lolp"
   ]
  },
  {
   "cell_type": "code",
   "execution_count": 11,
   "id": "c5299c4b-126f-41e6-8ffc-9d9d89a4b006",
   "metadata": {},
   "outputs": [
    {
     "name": "stdout",
     "output_type": "stream",
     "text": [
      "Total LOLP: 0.0087\n"
     ]
    }
   ],
   "source": [
    "print(f'Total LOLP: {sum(lolp):.4f}')"
   ]
  },
  {
   "cell_type": "code",
   "execution_count": null,
   "id": "cf25bd80",
   "metadata": {},
   "outputs": [],
   "source": []
  }
 ],
 "metadata": {
  "kernelspec": {
   "display_name": "Python 3.7.4 64-bit",
   "language": "python",
   "name": "python3"
  },
  "language_info": {
   "codemirror_mode": {
    "name": "ipython",
    "version": 3
   },
   "file_extension": ".py",
   "mimetype": "text/x-python",
   "name": "python",
   "nbconvert_exporter": "python",
   "pygments_lexer": "ipython3",
   "version": "3.7.4"
  },
  "vscode": {
   "interpreter": {
    "hash": "c539bf52739056728523ce4846b8571647250a403fa0a07ad5abaf30b2362796"
   }
  }
 },
 "nbformat": 4,
 "nbformat_minor": 5
}
