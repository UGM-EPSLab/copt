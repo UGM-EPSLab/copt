{
 "cells": [
  {
   "cell_type": "markdown",
   "id": "92f99698-91e7-41eb-83b3-d778c4c9d357",
   "metadata": {},
   "source": [
    "# COPT and LOLP Calculator"
   ]
  },
  {
   "cell_type": "markdown",
   "id": "5c9f077b-b37e-4371-a253-6049e38b88d5",
   "metadata": {},
   "source": [
    "## import and settting printer"
   ]
  },
  {
   "cell_type": "code",
   "execution_count": null,
   "id": "2da5fd93-5c2d-4630-b33d-5092fe128017",
   "metadata": {},
   "outputs": [],
   "source": [
    "import itertools\n",
    "import numpy as np\n",
    "import pandas as pd"
   ]
  },
  {
   "cell_type": "code",
   "execution_count": null,
   "id": "2b8073e2-b533-408c-a567-7af97aa33eee",
   "metadata": {},
   "outputs": [],
   "source": [
    "# setting numpy print option decimal places\n",
    "decimal_places = 3\n",
    "np.set_printoptions(precision=decimal_places, suppress=True)"
   ]
  },
  {
   "cell_type": "markdown",
   "id": "4269c2b3-e8a8-420c-958e-158269bcda16",
   "metadata": {},
   "source": [
    "## inputs"
   ]
  },
  {
   "cell_type": "code",
   "execution_count": null,
   "id": "f5e2e5b7-90f9-4be3-8ed3-786a2c606ce9",
   "metadata": {},
   "outputs": [
    {
     "data": {
      "text/html": [
       "<div>\n",
       "<style scoped>\n",
       "    .dataframe tbody tr th:only-of-type {\n",
       "        vertical-align: middle;\n",
       "    }\n",
       "\n",
       "    .dataframe tbody tr th {\n",
       "        vertical-align: top;\n",
       "    }\n",
       "\n",
       "    .dataframe thead th {\n",
       "        text-align: right;\n",
       "    }\n",
       "</style>\n",
       "<table border=\"1\" class=\"dataframe\">\n",
       "  <thead>\n",
       "    <tr style=\"text-align: right;\">\n",
       "      <th></th>\n",
       "      <th>capacities</th>\n",
       "      <th>outage_rates</th>\n",
       "      <th>status</th>\n",
       "    </tr>\n",
       "  </thead>\n",
       "  <tbody>\n",
       "    <tr>\n",
       "      <th>1</th>\n",
       "      <td>80</td>\n",
       "      <td>0.1</td>\n",
       "      <td>True</td>\n",
       "    </tr>\n",
       "    <tr>\n",
       "      <th>2</th>\n",
       "      <td>70</td>\n",
       "      <td>0.2</td>\n",
       "      <td>False</td>\n",
       "    </tr>\n",
       "    <tr>\n",
       "      <th>3</th>\n",
       "      <td>40</td>\n",
       "      <td>0.1</td>\n",
       "      <td>True</td>\n",
       "    </tr>\n",
       "    <tr>\n",
       "      <th>4</th>\n",
       "      <td>50</td>\n",
       "      <td>0.2</td>\n",
       "      <td>True</td>\n",
       "    </tr>\n",
       "  </tbody>\n",
       "</table>\n",
       "</div>"
      ],
      "text/plain": [
       "   capacities  outage_rates  status\n",
       "1          80           0.1    True\n",
       "2          70           0.2   False\n",
       "3          40           0.1    True\n",
       "4          50           0.2    True"
      ]
     },
     "execution_count": 42,
     "metadata": {},
     "output_type": "execute_result"
    }
   ],
   "source": [
    "# max capacity\n",
    "capacities = [\n",
    "    80,\n",
    "    70,\n",
    "    40,\n",
    "    50\n",
    "]\n",
    "\n",
    "# forced outage rate\n",
    "outage_rates = [\n",
    "    0.1, \n",
    "    0.2,\n",
    "    0.1,\n",
    "    0.2\n",
    "]\n",
    "\n",
    "\n",
    "# status of generator,\n",
    "#     True: exist\n",
    "#     False: not exist\n",
    "status = [\n",
    "    True,\n",
    "    False,\n",
    "    True,\n",
    "    True\n",
    "]\n",
    "\n",
    "pd.DataFrame(data={'capacities': capacities,\n",
    "                   'outage_rates': outage_rates,\n",
    "                   'status': status},\n",
    "             index=pd.RangeIndex(1, len(capacities) + 1, 1))"
   ]
  },
  {
   "cell_type": "code",
   "execution_count": null,
   "id": "73e02ed9",
   "metadata": {},
   "outputs": [],
   "source": [
    "# peak load or load at time considering\n",
    "# used to calculate LOLP\n",
    "demands = [90, 100, 125, 50]"
   ]
  },
  {
   "cell_type": "markdown",
   "id": "63a3782f-746f-49dc-99b3-cee3fc3513a4",
   "metadata": {},
   "source": [
    "## creating data"
   ]
  },
  {
   "cell_type": "code",
   "execution_count": null,
   "id": "a8c73fcb",
   "metadata": {},
   "outputs": [
    {
     "name": "stdout",
     "output_type": "stream",
     "text": [
      "[[80, 0], [40, 0], [50, 0]]\n",
      "[[0.9, 0.1], [0.9, 0.1], [0.8, 0.2]]\n"
     ]
    }
   ],
   "source": [
    "capacities_fix = [[cap, 0] for cap, stat in zip(capacities, status) if stat]\n",
    "probabilities_fix = [[1-out, out] for out, stat in zip(outage_rates, status) if stat]\n",
    "\n",
    "print(capacities_fix)\n",
    "print(probabilities_fix)"
   ]
  },
  {
   "cell_type": "code",
   "execution_count": null,
   "id": "de73511b-5d01-4fcd-b088-1e6356ca3753",
   "metadata": {},
   "outputs": [
    {
     "name": "stdout",
     "output_type": "stream",
     "text": [
      "[(80, 40, 50), (80, 40, 0), (80, 0, 50), (80, 0, 0), (0, 40, 50), (0, 40, 0), (0, 0, 50), (0, 0, 0)]\n",
      "[(0.9, 0.9, 0.8), (0.9, 0.9, 0.2), (0.9, 0.1, 0.8), (0.9, 0.1, 0.2), (0.1, 0.9, 0.8), (0.1, 0.9, 0.2), (0.1, 0.1, 0.8), (0.1, 0.1, 0.2)]\n"
     ]
    }
   ],
   "source": [
    "capacities_combination = list(itertools.product(*capacities_fix))\n",
    "probabilities_combinations = list(itertools.product(*probabilities_fix))\n",
    "\n",
    "print(capacities_combination)\n",
    "print(probabilities_combinations)"
   ]
  },
  {
   "cell_type": "markdown",
   "id": "82db4619-e51d-43fc-8a64-c2d73bc63b75",
   "metadata": {},
   "source": [
    "## COPT table"
   ]
  },
  {
   "cell_type": "code",
   "execution_count": null,
   "id": "5a1ec395-c532-4031-bbfc-083fbf06bef1",
   "metadata": {},
   "outputs": [],
   "source": [
    "capacity_merged = np.array([sum(i) for i in capacities_combination])\n",
    "probability_merged = np.array([np.prod(i) for i in probabilities_combinations])\n",
    "\n",
    "table = np.vstack([capacity_merged, probability_merged]).T\n",
    "table = table[(-table[:, 0]).argsort(),:]"
   ]
  },
  {
   "cell_type": "code",
   "execution_count": null,
   "id": "38dc811a-54cf-46d4-85ff-d37159702e4c",
   "metadata": {},
   "outputs": [],
   "source": [
    "cumulative_probability = np.zeros(len(probability_merged))\n",
    "\n",
    "val = 0\n",
    "for i in reversed(range(len(cumulative_probability))):\n",
    "    val += table[i,1]\n",
    "    cumulative_probability[i] = val\n",
    "\n",
    "table = np.column_stack([table, cumulative_probability])"
   ]
  },
  {
   "cell_type": "markdown",
   "id": "117eb0f2-1c21-4753-a747-44afb4a7fa64",
   "metadata": {},
   "source": [
    "## display COPT table"
   ]
  },
  {
   "cell_type": "code",
   "execution_count": null,
   "id": "1d68150b-8c44-4d0b-83cb-bf4d193e69a0",
   "metadata": {},
   "outputs": [],
   "source": [
    "columns_name = ['Combined Capacity', 'Individual Probability', 'Cumulative Probability']"
   ]
  },
  {
   "cell_type": "code",
   "execution_count": null,
   "id": "e9f9b660-7e4f-4a97-b012-2200be1d70fe",
   "metadata": {},
   "outputs": [
    {
     "data": {
      "text/html": [
       "<div>\n",
       "<style scoped>\n",
       "    .dataframe tbody tr th:only-of-type {\n",
       "        vertical-align: middle;\n",
       "    }\n",
       "\n",
       "    .dataframe tbody tr th {\n",
       "        vertical-align: top;\n",
       "    }\n",
       "\n",
       "    .dataframe thead th {\n",
       "        text-align: right;\n",
       "    }\n",
       "</style>\n",
       "<table border=\"1\" class=\"dataframe\">\n",
       "  <thead>\n",
       "    <tr style=\"text-align: right;\">\n",
       "      <th></th>\n",
       "      <th>Combined Capacity</th>\n",
       "      <th>Individual Probability</th>\n",
       "      <th>Cumulative Probability</th>\n",
       "    </tr>\n",
       "  </thead>\n",
       "  <tbody>\n",
       "    <tr>\n",
       "      <th>1</th>\n",
       "      <td>170.0</td>\n",
       "      <td>0.648</td>\n",
       "      <td>1.000</td>\n",
       "    </tr>\n",
       "    <tr>\n",
       "      <th>2</th>\n",
       "      <td>130.0</td>\n",
       "      <td>0.072</td>\n",
       "      <td>0.352</td>\n",
       "    </tr>\n",
       "    <tr>\n",
       "      <th>3</th>\n",
       "      <td>120.0</td>\n",
       "      <td>0.162</td>\n",
       "      <td>0.280</td>\n",
       "    </tr>\n",
       "    <tr>\n",
       "      <th>4</th>\n",
       "      <td>90.0</td>\n",
       "      <td>0.072</td>\n",
       "      <td>0.118</td>\n",
       "    </tr>\n",
       "    <tr>\n",
       "      <th>5</th>\n",
       "      <td>80.0</td>\n",
       "      <td>0.018</td>\n",
       "      <td>0.046</td>\n",
       "    </tr>\n",
       "    <tr>\n",
       "      <th>6</th>\n",
       "      <td>50.0</td>\n",
       "      <td>0.008</td>\n",
       "      <td>0.028</td>\n",
       "    </tr>\n",
       "    <tr>\n",
       "      <th>7</th>\n",
       "      <td>40.0</td>\n",
       "      <td>0.018</td>\n",
       "      <td>0.020</td>\n",
       "    </tr>\n",
       "    <tr>\n",
       "      <th>8</th>\n",
       "      <td>0.0</td>\n",
       "      <td>0.002</td>\n",
       "      <td>0.002</td>\n",
       "    </tr>\n",
       "  </tbody>\n",
       "</table>\n",
       "</div>"
      ],
      "text/plain": [
       "   Combined Capacity  Individual Probability  Cumulative Probability\n",
       "1              170.0                   0.648                   1.000\n",
       "2              130.0                   0.072                   0.352\n",
       "3              120.0                   0.162                   0.280\n",
       "4               90.0                   0.072                   0.118\n",
       "5               80.0                   0.018                   0.046\n",
       "6               50.0                   0.008                   0.028\n",
       "7               40.0                   0.018                   0.020\n",
       "8                0.0                   0.002                   0.002"
      ]
     },
     "execution_count": 49,
     "metadata": {},
     "output_type": "execute_result"
    }
   ],
   "source": [
    "table_pd = pd.DataFrame(data=table, columns=columns_name)\n",
    "table_pd.index += 1 \n",
    "table_pd"
   ]
  },
  {
   "cell_type": "markdown",
   "id": "dfed40fb-aa1a-43df-a059-e0ae28ef3c37",
   "metadata": {},
   "source": [
    "## LOLP"
   ]
  },
  {
   "cell_type": "code",
   "execution_count": null,
   "id": "3c4f8693-b0e1-4826-b213-176edfa51a36",
   "metadata": {},
   "outputs": [],
   "source": [
    "def get_lolp(capacity, cumulative_probability, demand):\n",
    "    \"\"\"\n",
    "    format:\n",
    "        capacity (descend)\n",
    "        cumulative_probability(descend)\n",
    "    \"\"\"\n",
    "    idx = np.argmax(capacity < demand)\n",
    "    return cumulative_probability[idx]"
   ]
  },
  {
   "cell_type": "code",
   "execution_count": null,
   "id": "ce73b337-4f89-486c-8691-29a3e8d32890",
   "metadata": {},
   "outputs": [
    {
     "name": "stdout",
     "output_type": "stream",
     "text": [
      "[0.046000000000000006, 0.11800000000000002, 0.28, 0.020000000000000004]\n"
     ]
    }
   ],
   "source": [
    "lolp = [get_lolp(table[:,0], table[:,2], demand) for demand in demands]\n",
    "print(lolp)"
   ]
  },
  {
   "cell_type": "code",
   "execution_count": null,
   "id": "c5299c4b-126f-41e6-8ffc-9d9d89a4b006",
   "metadata": {},
   "outputs": [
    {
     "name": "stdout",
     "output_type": "stream",
     "text": [
      "Total LOLP: 0.4640\n"
     ]
    }
   ],
   "source": [
    "print(f'Total LOLP: {sum(lolp):.4f}')"
   ]
  },
  {
   "cell_type": "code",
   "execution_count": null,
   "id": "cf25bd80",
   "metadata": {},
   "outputs": [],
   "source": []
  }
 ],
 "metadata": {
  "kernelspec": {
   "display_name": "Python 3.7.4 64-bit",
   "language": "python",
   "name": "python3"
  },
  "language_info": {
   "codemirror_mode": {
    "name": "ipython",
    "version": 3
   },
   "file_extension": ".py",
   "mimetype": "text/x-python",
   "name": "python",
   "nbconvert_exporter": "python",
   "pygments_lexer": "ipython3"
  },
  "vscode": {
   "interpreter": {
    "hash": "c539bf52739056728523ce4846b8571647250a403fa0a07ad5abaf30b2362796"
   }
  }
 },
 "nbformat": 4,
 "nbformat_minor": 5
}
